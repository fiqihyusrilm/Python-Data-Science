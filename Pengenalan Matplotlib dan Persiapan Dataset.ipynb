{
 "cells": [
  {
   "cell_type": "code",
   "execution_count": 3,
   "id": "minute-boost",
   "metadata": {},
   "outputs": [
    {
     "name": "stdout",
     "output_type": "stream",
     "text": [
      "Ukuran dataset: 5000 baris dan 9 kolom\n",
      "\n",
      "Lima data teratas:\n",
      "   order_id  order_date  customer_id             city     province product_id  \\\n",
      "0   1703458  2019-10-17        14004  Jakarta Selatan  DKI Jakarta      P1910   \n",
      "1   1706815  2019-10-24        17220  Jakarta Selatan  DKI Jakarta      P2934   \n",
      "2   1710718  2019-11-03        16518    Jakarta Utara  DKI Jakarta      P0908   \n",
      "3   1683592  2019-08-19        16364    Jakarta Barat  DKI Jakarta      P0128   \n",
      "4   1702573  2019-10-16        15696    Jakarta Timur  DKI Jakarta      P2968   \n",
      "\n",
      "     brand  quantity  item_price  \n",
      "0  BRAND_J        10      740000  \n",
      "1  BRAND_R         2      604000  \n",
      "2  BRAND_C         8     1045000  \n",
      "3  BRAND_A         4      205000  \n",
      "4  BRAND_R         2     4475000  \n"
     ]
    }
   ],
   "source": [
    "import pandas as pd\n",
    "dataset = pd.read_csv('https://dqlab-dataset.s3-ap-southeast-1.amazonaws.com/retail_raw_reduced.csv')\n",
    "print('Ukuran dataset: %d baris dan %d kolom\\n' % dataset.shape)\n",
    "print('Lima data teratas:')\n",
    "print(dataset.head())"
   ]
  },
  {
   "cell_type": "code",
   "execution_count": 25,
   "id": "exterior-newcastle",
   "metadata": {},
   "outputs": [
    {
     "data": {
      "text/plain": [
       "0      2019-10-17\n",
       "1      2019-10-24\n",
       "2      2019-11-03\n",
       "3      2019-08-19\n",
       "4      2019-10-16\n",
       "          ...    \n",
       "4995   2019-12-01\n",
       "4996   2019-07-28\n",
       "4997   2019-10-23\n",
       "4998   2019-10-17\n",
       "4999   2019-11-24\n",
       "Name: order_date, Length: 5000, dtype: datetime64[ns]"
      ]
     },
     "execution_count": 25,
     "metadata": {},
     "output_type": "execute_result"
    }
   ],
   "source": [
    "import datetime\n",
    "dataset['order_date'].apply(lambda x: datetime.datetime.strptime(x, \"%Y-%m-%d\"))"
   ]
  },
  {
   "cell_type": "code",
   "execution_count": 26,
   "id": "outside-dominant",
   "metadata": {},
   "outputs": [
    {
     "data": {
      "text/plain": [
       "0       2019-10\n",
       "1       2019-10\n",
       "2       2019-11\n",
       "3       2019-08\n",
       "4       2019-10\n",
       "         ...   \n",
       "4995    2019-12\n",
       "4996    2019-07\n",
       "4997    2019-10\n",
       "4998    2019-10\n",
       "4999    2019-11\n",
       "Name: order_date, Length: 5000, dtype: object"
      ]
     },
     "execution_count": 26,
     "metadata": {},
     "output_type": "execute_result"
    }
   ],
   "source": [
    "dataset['order_date'].apply(lambda x: datetime.datetime.strptime(x, \"%Y-%m-%d\").strftime('%Y-%m'))"
   ]
  },
  {
   "cell_type": "code",
   "execution_count": 28,
   "id": "strategic-authority",
   "metadata": {},
   "outputs": [
    {
     "data": {
      "text/plain": [
       "0       2019-10-17\n",
       "1       2019-10-24\n",
       "2       2019-11-03\n",
       "3       2019-08-19\n",
       "4       2019-10-16\n",
       "           ...    \n",
       "4995    2019-12-01\n",
       "4996    2019-07-28\n",
       "4997    2019-10-23\n",
       "4998    2019-10-17\n",
       "4999    2019-11-24\n",
       "Name: order_date, Length: 5000, dtype: object"
      ]
     },
     "execution_count": 28,
     "metadata": {},
     "output_type": "execute_result"
    }
   ],
   "source": [
    "dataset['order_date']"
   ]
  },
  {
   "cell_type": "code",
   "execution_count": 30,
   "id": "honest-coating",
   "metadata": {},
   "outputs": [],
   "source": [
    "dataset['order_month'] = dataset['order_date'].apply(lambda x: datetime.datetime.strptime(x, \"%Y-%m-%d\").strftime('%Y-%m'))"
   ]
  },
  {
   "cell_type": "code",
   "execution_count": 31,
   "id": "expensive-japanese",
   "metadata": {},
   "outputs": [
    {
     "data": {
      "text/html": [
       "<div>\n",
       "<style scoped>\n",
       "    .dataframe tbody tr th:only-of-type {\n",
       "        vertical-align: middle;\n",
       "    }\n",
       "\n",
       "    .dataframe tbody tr th {\n",
       "        vertical-align: top;\n",
       "    }\n",
       "\n",
       "    .dataframe thead th {\n",
       "        text-align: right;\n",
       "    }\n",
       "</style>\n",
       "<table border=\"1\" class=\"dataframe\">\n",
       "  <thead>\n",
       "    <tr style=\"text-align: right;\">\n",
       "      <th></th>\n",
       "      <th>order_id</th>\n",
       "      <th>order_date</th>\n",
       "      <th>customer_id</th>\n",
       "      <th>city</th>\n",
       "      <th>province</th>\n",
       "      <th>product_id</th>\n",
       "      <th>brand</th>\n",
       "      <th>quantity</th>\n",
       "      <th>item_price</th>\n",
       "      <th>order_month</th>\n",
       "    </tr>\n",
       "  </thead>\n",
       "  <tbody>\n",
       "    <tr>\n",
       "      <th>0</th>\n",
       "      <td>1703458</td>\n",
       "      <td>2019-10-17</td>\n",
       "      <td>14004</td>\n",
       "      <td>Jakarta Selatan</td>\n",
       "      <td>DKI Jakarta</td>\n",
       "      <td>P1910</td>\n",
       "      <td>BRAND_J</td>\n",
       "      <td>10</td>\n",
       "      <td>740000</td>\n",
       "      <td>2019-10</td>\n",
       "    </tr>\n",
       "    <tr>\n",
       "      <th>1</th>\n",
       "      <td>1706815</td>\n",
       "      <td>2019-10-24</td>\n",
       "      <td>17220</td>\n",
       "      <td>Jakarta Selatan</td>\n",
       "      <td>DKI Jakarta</td>\n",
       "      <td>P2934</td>\n",
       "      <td>BRAND_R</td>\n",
       "      <td>2</td>\n",
       "      <td>604000</td>\n",
       "      <td>2019-10</td>\n",
       "    </tr>\n",
       "    <tr>\n",
       "      <th>2</th>\n",
       "      <td>1710718</td>\n",
       "      <td>2019-11-03</td>\n",
       "      <td>16518</td>\n",
       "      <td>Jakarta Utara</td>\n",
       "      <td>DKI Jakarta</td>\n",
       "      <td>P0908</td>\n",
       "      <td>BRAND_C</td>\n",
       "      <td>8</td>\n",
       "      <td>1045000</td>\n",
       "      <td>2019-11</td>\n",
       "    </tr>\n",
       "    <tr>\n",
       "      <th>3</th>\n",
       "      <td>1683592</td>\n",
       "      <td>2019-08-19</td>\n",
       "      <td>16364</td>\n",
       "      <td>Jakarta Barat</td>\n",
       "      <td>DKI Jakarta</td>\n",
       "      <td>P0128</td>\n",
       "      <td>BRAND_A</td>\n",
       "      <td>4</td>\n",
       "      <td>205000</td>\n",
       "      <td>2019-08</td>\n",
       "    </tr>\n",
       "    <tr>\n",
       "      <th>4</th>\n",
       "      <td>1702573</td>\n",
       "      <td>2019-10-16</td>\n",
       "      <td>15696</td>\n",
       "      <td>Jakarta Timur</td>\n",
       "      <td>DKI Jakarta</td>\n",
       "      <td>P2968</td>\n",
       "      <td>BRAND_R</td>\n",
       "      <td>2</td>\n",
       "      <td>4475000</td>\n",
       "      <td>2019-10</td>\n",
       "    </tr>\n",
       "    <tr>\n",
       "      <th>...</th>\n",
       "      <td>...</td>\n",
       "      <td>...</td>\n",
       "      <td>...</td>\n",
       "      <td>...</td>\n",
       "      <td>...</td>\n",
       "      <td>...</td>\n",
       "      <td>...</td>\n",
       "      <td>...</td>\n",
       "      <td>...</td>\n",
       "      <td>...</td>\n",
       "    </tr>\n",
       "    <tr>\n",
       "      <th>4995</th>\n",
       "      <td>1724011</td>\n",
       "      <td>2019-12-01</td>\n",
       "      <td>12838</td>\n",
       "      <td>Tangerang</td>\n",
       "      <td>Banten</td>\n",
       "      <td>P3047</td>\n",
       "      <td>BRAND_R</td>\n",
       "      <td>2</td>\n",
       "      <td>450000</td>\n",
       "      <td>2019-12</td>\n",
       "    </tr>\n",
       "    <tr>\n",
       "      <th>4996</th>\n",
       "      <td>1676302</td>\n",
       "      <td>2019-07-28</td>\n",
       "      <td>13833</td>\n",
       "      <td>Bogor</td>\n",
       "      <td>Jawa Barat</td>\n",
       "      <td>P0760</td>\n",
       "      <td>BRAND_C</td>\n",
       "      <td>3</td>\n",
       "      <td>1465000</td>\n",
       "      <td>2019-07</td>\n",
       "    </tr>\n",
       "    <tr>\n",
       "      <th>4997</th>\n",
       "      <td>1706071</td>\n",
       "      <td>2019-10-23</td>\n",
       "      <td>16332</td>\n",
       "      <td>Jakarta Timur</td>\n",
       "      <td>DKI Jakarta</td>\n",
       "      <td>P1681</td>\n",
       "      <td>BRAND_H</td>\n",
       "      <td>4</td>\n",
       "      <td>747000</td>\n",
       "      <td>2019-10</td>\n",
       "    </tr>\n",
       "    <tr>\n",
       "      <th>4998</th>\n",
       "      <td>1703620</td>\n",
       "      <td>2019-10-17</td>\n",
       "      <td>13055</td>\n",
       "      <td>Jakarta Barat</td>\n",
       "      <td>DKI Jakarta</td>\n",
       "      <td>P0757</td>\n",
       "      <td>BRAND_C</td>\n",
       "      <td>8</td>\n",
       "      <td>695000</td>\n",
       "      <td>2019-10</td>\n",
       "    </tr>\n",
       "    <tr>\n",
       "      <th>4999</th>\n",
       "      <td>1720036</td>\n",
       "      <td>2019-11-24</td>\n",
       "      <td>17609</td>\n",
       "      <td>Jakarta Pusat</td>\n",
       "      <td>DKI Jakarta</td>\n",
       "      <td>P3334</td>\n",
       "      <td>BRAND_S</td>\n",
       "      <td>1</td>\n",
       "      <td>1045000</td>\n",
       "      <td>2019-11</td>\n",
       "    </tr>\n",
       "  </tbody>\n",
       "</table>\n",
       "<p>5000 rows × 10 columns</p>\n",
       "</div>"
      ],
      "text/plain": [
       "      order_id  order_date  customer_id             city     province  \\\n",
       "0      1703458  2019-10-17        14004  Jakarta Selatan  DKI Jakarta   \n",
       "1      1706815  2019-10-24        17220  Jakarta Selatan  DKI Jakarta   \n",
       "2      1710718  2019-11-03        16518    Jakarta Utara  DKI Jakarta   \n",
       "3      1683592  2019-08-19        16364    Jakarta Barat  DKI Jakarta   \n",
       "4      1702573  2019-10-16        15696    Jakarta Timur  DKI Jakarta   \n",
       "...        ...         ...          ...              ...          ...   \n",
       "4995   1724011  2019-12-01        12838        Tangerang       Banten   \n",
       "4996   1676302  2019-07-28        13833            Bogor   Jawa Barat   \n",
       "4997   1706071  2019-10-23        16332    Jakarta Timur  DKI Jakarta   \n",
       "4998   1703620  2019-10-17        13055    Jakarta Barat  DKI Jakarta   \n",
       "4999   1720036  2019-11-24        17609    Jakarta Pusat  DKI Jakarta   \n",
       "\n",
       "     product_id    brand  quantity  item_price order_month  \n",
       "0         P1910  BRAND_J        10      740000     2019-10  \n",
       "1         P2934  BRAND_R         2      604000     2019-10  \n",
       "2         P0908  BRAND_C         8     1045000     2019-11  \n",
       "3         P0128  BRAND_A         4      205000     2019-08  \n",
       "4         P2968  BRAND_R         2     4475000     2019-10  \n",
       "...         ...      ...       ...         ...         ...  \n",
       "4995      P3047  BRAND_R         2      450000     2019-12  \n",
       "4996      P0760  BRAND_C         3     1465000     2019-07  \n",
       "4997      P1681  BRAND_H         4      747000     2019-10  \n",
       "4998      P0757  BRAND_C         8      695000     2019-10  \n",
       "4999      P3334  BRAND_S         1     1045000     2019-11  \n",
       "\n",
       "[5000 rows x 10 columns]"
      ]
     },
     "execution_count": 31,
     "metadata": {},
     "output_type": "execute_result"
    }
   ],
   "source": [
    "dataset"
   ]
  },
  {
   "cell_type": "code",
   "execution_count": 32,
   "id": "fifteen-renaissance",
   "metadata": {},
   "outputs": [
    {
     "name": "stdout",
     "output_type": "stream",
     "text": [
      "Ukuran dataset: 5000 baris dan 11 kolom\n",
      "\n",
      "Lima data teratas:\n",
      "   order_id  order_date  customer_id             city     province product_id  \\\n",
      "0   1703458  2019-10-17        14004  Jakarta Selatan  DKI Jakarta      P1910   \n",
      "1   1706815  2019-10-24        17220  Jakarta Selatan  DKI Jakarta      P2934   \n",
      "2   1710718  2019-11-03        16518    Jakarta Utara  DKI Jakarta      P0908   \n",
      "3   1683592  2019-08-19        16364    Jakarta Barat  DKI Jakarta      P0128   \n",
      "4   1702573  2019-10-16        15696    Jakarta Timur  DKI Jakarta      P2968   \n",
      "\n",
      "     brand  quantity  item_price order_month      gmv  \n",
      "0  BRAND_J        10      740000     2019-10  7400000  \n",
      "1  BRAND_R         2      604000     2019-10  1208000  \n",
      "2  BRAND_C         8     1045000     2019-11  8360000  \n",
      "3  BRAND_A         4      205000     2019-08   820000  \n",
      "4  BRAND_R         2     4475000     2019-10  8950000  \n"
     ]
    }
   ],
   "source": [
    "dataset['gmv'] = dataset['item_price']*dataset['quantity']\n",
    "print('Ukuran dataset: %d baris dan %d kolom\\n' % dataset.shape)\n",
    "print('Lima data teratas:')\n",
    "print(dataset.head())"
   ]
  },
  {
   "cell_type": "code",
   "execution_count": 47,
   "id": "obvious-player",
   "metadata": {},
   "outputs": [
    {
     "name": "stdout",
     "output_type": "stream",
     "text": [
      "  order_month         gmv\n",
      "0     2019-07  3524041000\n",
      "1     2019-08  4452923000\n",
      "2     2019-09  3947002000\n",
      "3     2019-10  6719937000\n",
      "4     2019-11  6182229000\n",
      "5     2019-12  8148235000\n"
     ]
    }
   ],
   "source": [
    "monthly_amount = dataset.groupby('order_month')['gmv'].sum().reset_index()\n",
    "print(monthly_amount)"
   ]
  },
  {
   "cell_type": "code",
   "execution_count": 46,
   "id": "successful-republican",
   "metadata": {},
   "outputs": [
    {
     "name": "stdout",
     "output_type": "stream",
     "text": [
      "order_month\n",
      "2019-07    3524041000\n",
      "2019-08    4452923000\n",
      "2019-09    3947002000\n",
      "2019-10    6719937000\n",
      "2019-11    6182229000\n",
      "2019-12    8148235000\n",
      "Name: gmv, dtype: int64\n"
     ]
    }
   ],
   "source": [
    "monthly_amount = dataset.groupby('order_month')['gmv'].sum()\n",
    "print(monthly_amount)"
   ]
  },
  {
   "cell_type": "code",
   "execution_count": 39,
   "id": "intimate-kuwait",
   "metadata": {},
   "outputs": [
    {
     "data": {
      "text/plain": [
       "5       2080000\n",
       "16      7400000\n",
       "18      5580000\n",
       "22      7400000\n",
       "25      3720000\n",
       "         ...   \n",
       "4968    4600000\n",
       "4980    5945000\n",
       "4983    1045000\n",
       "4985    3000000\n",
       "4996    4395000\n",
       "Name: gmv, Length: 574, dtype: int64"
      ]
     },
     "execution_count": 39,
     "metadata": {},
     "output_type": "execute_result"
    }
   ],
   "source": [
    "dataset[dataset['order_month'] == '2019-07']['gmv']"
   ]
  },
  {
   "cell_type": "code",
   "execution_count": 55,
   "id": "documentary-mercy",
   "metadata": {},
   "outputs": [
    {
     "data": {
      "text/plain": [
       "order_month\n",
       "2019-07    3524041000\n",
       "2019-08    4452923000\n",
       "2019-09    3947002000\n",
       "2019-10    6719937000\n",
       "2019-11    6182229000\n",
       "2019-12    8148235000\n",
       "Name: gmv, dtype: int64"
      ]
     },
     "execution_count": 55,
     "metadata": {},
     "output_type": "execute_result"
    }
   ],
   "source": [
    "dataset.groupby(['order_month'])['gmv'].sum()"
   ]
  },
  {
   "cell_type": "code",
   "execution_count": null,
   "id": "accurate-booking",
   "metadata": {},
   "outputs": [],
   "source": []
  }
 ],
 "metadata": {
  "kernelspec": {
   "display_name": "Python 3",
   "language": "python",
   "name": "python3"
  },
  "language_info": {
   "codemirror_mode": {
    "name": "ipython",
    "version": 3
   },
   "file_extension": ".py",
   "mimetype": "text/x-python",
   "name": "python",
   "nbconvert_exporter": "python",
   "pygments_lexer": "ipython3",
   "version": "3.8.5"
  }
 },
 "nbformat": 4,
 "nbformat_minor": 5
}
