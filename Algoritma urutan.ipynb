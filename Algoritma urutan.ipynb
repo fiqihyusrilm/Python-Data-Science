{
 "cells": [
  {
   "cell_type": "code",
   "execution_count": 1,
   "id": "assured-vault",
   "metadata": {},
   "outputs": [],
   "source": [
    "acak = [2,3,1,6,3,8,3]"
   ]
  },
  {
   "cell_type": "code",
   "execution_count": 3,
   "id": "honey-retreat",
   "metadata": {},
   "outputs": [
    {
     "name": "stdout",
     "output_type": "stream",
     "text": [
      "2\n",
      "3\n",
      "1\n",
      "6\n",
      "3\n",
      "8\n",
      "3\n"
     ]
    }
   ],
   "source": [
    "for i in acak:\n",
    "    if i < i+1:\n",
    "        print(i)\n",
    "        "
   ]
  },
  {
   "cell_type": "code",
   "execution_count": 4,
   "id": "timely-equation",
   "metadata": {},
   "outputs": [
    {
     "name": "stdout",
     "output_type": "stream",
     "text": [
      "[1, 2, 4, 5, 8]\n"
     ]
    }
   ],
   "source": [
    "def bubble_sort(nums):\n",
    "    # We set swapped to True so the loop looks runs at least once\n",
    "    swapped = True\n",
    "    while swapped:\n",
    "        swapped = False\n",
    "        for i in range(len(nums) - 1):\n",
    "            if nums[i] > nums[i + 1]:\n",
    "                # Swap the elements\n",
    "                nums[i], nums[i + 1] = nums[i + 1], nums[i]\n",
    "                # Set the flag to True so we'll loop again\n",
    "                swapped = True\n",
    "\n",
    "\n",
    "# Verify it works\n",
    "random_list_of_nums = [5, 2, 1, 8, 4]\n",
    "bubble_sort(random_list_of_nums)\n",
    "print(random_list_of_nums)"
   ]
  },
  {
   "cell_type": "code",
   "execution_count": null,
   "id": "champion-profit",
   "metadata": {},
   "outputs": [],
   "source": [
    "acak = [5, 2, 1, 10, 4]\n",
    "swapped = True\n",
    "\n",
    "while swapped:\n",
    "    swapped = False\n",
    "    for i in range(len(acak)-1):\n",
    "        if acak[i] > acak[i + 1]:\n",
    "            acak[i], acak[i + 1] = acak[i + 1], acak[i]\n",
    "            swapped = True\n",
    "            \n",
    "print(acak)"
   ]
  },
  {
   "cell_type": "code",
   "execution_count": null,
   "id": "shared-pipeline",
   "metadata": {},
   "outputs": [],
   "source": [
    "acak = [5, 2, 1, 10, 4]\n",
    "ganti = benar\n",
    "lakukan ganti:\n",
    "    ganti = salah\n",
    "    ulang i sepanjang 0,1,2,3:\n",
    "        jika acak[1] = 5 >  acak[2] = 2:\n",
    "            acak[2], acak[1] = 5, 2\n",
    "            ganiti benar\n",
    "\n",
    "maka\n",
    "acak = [2, 5, 1, 10, 4]\n",
    "\n",
    "acak = [2, 5, 1, 10, 4]\n",
    "ganti = benar\n",
    "lakukan ganti:\n",
    "    ganti = salah\n",
    "    ulang i sepanjang 0,1,2,3:\n",
    "        jika acak[1] = 5 >  acak[2] = 2:\n",
    "            acak[2], acak[1] = 5, 2\n",
    "            ganiti benar"
   ]
  },
  {
   "cell_type": "code",
   "execution_count": null,
   "id": "oriented-vatican",
   "metadata": {},
   "outputs": [],
   "source": []
  },
  {
   "cell_type": "code",
   "execution_count": 30,
   "id": "accredited-cradle",
   "metadata": {},
   "outputs": [
    {
     "name": "stdout",
     "output_type": "stream",
     "text": [
      "0\n",
      "1\n",
      "2\n",
      "3\n"
     ]
    }
   ],
   "source": [
    "for i in range(len(acak)-1):\n",
    "#     print(i)\n",
    "    print(i)"
   ]
  },
  {
   "cell_type": "code",
   "execution_count": null,
   "id": "acquired-riverside",
   "metadata": {},
   "outputs": [],
   "source": []
  }
 ],
 "metadata": {
  "kernelspec": {
   "display_name": "Python 3",
   "language": "python",
   "name": "python3"
  },
  "language_info": {
   "codemirror_mode": {
    "name": "ipython",
    "version": 3
   },
   "file_extension": ".py",
   "mimetype": "text/x-python",
   "name": "python",
   "nbconvert_exporter": "python",
   "pygments_lexer": "ipython3",
   "version": "3.8.5"
  }
 },
 "nbformat": 4,
 "nbformat_minor": 5
}
