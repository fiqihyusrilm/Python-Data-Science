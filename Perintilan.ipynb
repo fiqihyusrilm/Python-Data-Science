{
 "cells": [
  {
   "cell_type": "code",
   "execution_count": 2,
   "id": "numerous-amazon",
   "metadata": {},
   "outputs": [
    {
     "ename": "NameError",
     "evalue": "name 'raw_data' is not defined",
     "output_type": "error",
     "traceback": [
      "\u001b[1;31m---------------------------------------------------------------------------\u001b[0m",
      "\u001b[1;31mNameError\u001b[0m                                 Traceback (most recent call last)",
      "\u001b[1;32m<ipython-input-2-73c291c79d50>\u001b[0m in \u001b[0;36m<module>\u001b[1;34m\u001b[0m\n\u001b[1;32m----> 1\u001b[1;33m \u001b[0mprint\u001b[0m \u001b[1;33m(\u001b[0m\u001b[0mraw_data\u001b[0m\u001b[1;33m.\u001b[0m\u001b[0mdescribe\u001b[0m\u001b[1;33m(\u001b[0m\u001b[1;33m)\u001b[0m\u001b[1;33m)\u001b[0m\u001b[1;33m\u001b[0m\u001b[1;33m\u001b[0m\u001b[0m\n\u001b[0m\u001b[0;32m      2\u001b[0m \u001b[1;33m\u001b[0m\u001b[0m\n\u001b[0;32m      3\u001b[0m \u001b[1;31m# Mencari nilai maksimum dari tiap kolom\u001b[0m\u001b[1;33m\u001b[0m\u001b[1;33m\u001b[0m\u001b[1;33m\u001b[0m\u001b[0m\n\u001b[0;32m      4\u001b[0m \u001b[0mraw_data\u001b[0m\u001b[1;33m.\u001b[0m\u001b[0mmax\u001b[0m\u001b[1;33m(\u001b[0m\u001b[1;33m)\u001b[0m\u001b[1;33m\u001b[0m\u001b[1;33m\u001b[0m\u001b[0m\n\u001b[0;32m      5\u001b[0m \u001b[1;33m\u001b[0m\u001b[0m\n",
      "\u001b[1;31mNameError\u001b[0m: name 'raw_data' is not defined"
     ]
    }
   ],
   "source": [
    "print (raw_data.describe())\n",
    "\n",
    "# Mencari nilai maksimum dari tiap kolom\n",
    "raw_data.max()\n",
    " \n",
    "# Mencari nilai maksimum dari kolom 'Harga'\n",
    "raw_data['Harga'].max()\n",
    " \n",
    "# Mencari nilai minimum dari kolom 'Harga'\n",
    "raw_data['Harga'].min()"
   ]
  },
  {
   "cell_type": "code",
   "execution_count": 3,
   "id": "premium-computer",
   "metadata": {},
   "outputs": [
    {
     "ename": "NameError",
     "evalue": "name 'raw_data' is not defined",
     "output_type": "error",
     "traceback": [
      "\u001b[1;31m---------------------------------------------------------------------------\u001b[0m",
      "\u001b[1;31mNameError\u001b[0m                                 Traceback (most recent call last)",
      "\u001b[1;32m<ipython-input-3-4f3a7b0f2dfb>\u001b[0m in \u001b[0;36m<module>\u001b[1;34m\u001b[0m\n\u001b[0;32m      1\u001b[0m \u001b[1;31m# menghitung jumlah dari semua kolom\u001b[0m\u001b[1;33m\u001b[0m\u001b[1;33m\u001b[0m\u001b[1;33m\u001b[0m\u001b[0m\n\u001b[1;32m----> 2\u001b[1;33m \u001b[0mprint\u001b[0m \u001b[1;33m(\u001b[0m\u001b[0mraw_data\u001b[0m\u001b[1;33m.\u001b[0m\u001b[0msum\u001b[0m\u001b[1;33m(\u001b[0m\u001b[1;33m)\u001b[0m\u001b[1;33m)\u001b[0m\u001b[1;33m\u001b[0m\u001b[1;33m\u001b[0m\u001b[0m\n\u001b[0m\u001b[0;32m      3\u001b[0m \u001b[1;33m\u001b[0m\u001b[0m\n\u001b[0;32m      4\u001b[0m \u001b[1;31m# menghitung jumlah dari semua kolom bertipe data numerik saja\u001b[0m\u001b[1;33m\u001b[0m\u001b[1;33m\u001b[0m\u001b[1;33m\u001b[0m\u001b[0m\n\u001b[0;32m      5\u001b[0m \u001b[0mraw_data\u001b[0m\u001b[1;33m.\u001b[0m\u001b[0msum\u001b[0m\u001b[1;33m(\u001b[0m\u001b[0mnumeric_only\u001b[0m\u001b[1;33m=\u001b[0m\u001b[1;32mTrue\u001b[0m\u001b[1;33m)\u001b[0m\u001b[1;33m\u001b[0m\u001b[1;33m\u001b[0m\u001b[0m\n",
      "\u001b[1;31mNameError\u001b[0m: name 'raw_data' is not defined"
     ]
    }
   ],
   "source": [
    "# menghitung jumlah dari semua kolom\n",
    "print (raw_data.sum())\n",
    " \n",
    "# menghitung jumlah dari semua kolom bertipe data numerik saja\n",
    "raw_data.sum(numeric_only=True)\n",
    " \n",
    "# menghitung jumlah dari kolom 'Harga' dan 'Pendapatan'\n",
    "raw_data[['Harga', 'Pendapatan']].sum()"
   ]
  },
  {
   "cell_type": "code",
   "execution_count": 4,
   "id": "human-radical",
   "metadata": {},
   "outputs": [
    {
     "ename": "NameError",
     "evalue": "name 'raw_data' is not defined",
     "output_type": "error",
     "traceback": [
      "\u001b[1;31m---------------------------------------------------------------------------\u001b[0m",
      "\u001b[1;31mNameError\u001b[0m                                 Traceback (most recent call last)",
      "\u001b[1;32m<ipython-input-4-aa93e3ca7742>\u001b[0m in \u001b[0;36m<module>\u001b[1;34m\u001b[0m\n\u001b[0;32m      1\u001b[0m \u001b[1;31m# Memilih kolom 'Pendapatan' saja\u001b[0m\u001b[1;33m\u001b[0m\u001b[1;33m\u001b[0m\u001b[1;33m\u001b[0m\u001b[0m\n\u001b[1;32m----> 2\u001b[1;33m \u001b[0mprint\u001b[0m \u001b[1;33m(\u001b[0m\u001b[0mraw_data\u001b[0m\u001b[1;33m[\u001b[0m\u001b[1;34m'Pendapatan'\u001b[0m\u001b[1;33m]\u001b[0m\u001b[1;33m)\u001b[0m\u001b[1;33m\u001b[0m\u001b[1;33m\u001b[0m\u001b[0m\n\u001b[0m\u001b[0;32m      3\u001b[0m \u001b[1;33m\u001b[0m\u001b[0m\n\u001b[0;32m      4\u001b[0m \u001b[1;31m# Memilih kolom 'Jenis Kelamin' dan 'Pendapatan'\u001b[0m\u001b[1;33m\u001b[0m\u001b[1;33m\u001b[0m\u001b[1;33m\u001b[0m\u001b[0m\n\u001b[0;32m      5\u001b[0m \u001b[0mprint\u001b[0m \u001b[1;33m(\u001b[0m\u001b[0mraw_data\u001b[0m\u001b[1;33m[\u001b[0m\u001b[1;33m[\u001b[0m\u001b[1;34m'Jenis Kelamin'\u001b[0m\u001b[1;33m,\u001b[0m \u001b[1;34m'Pendapatan'\u001b[0m\u001b[1;33m]\u001b[0m\u001b[1;33m]\u001b[0m\u001b[1;33m)\u001b[0m\u001b[1;33m\u001b[0m\u001b[1;33m\u001b[0m\u001b[0m\n",
      "\u001b[1;31mNameError\u001b[0m: name 'raw_data' is not defined"
     ]
    }
   ],
   "source": [
    "# Memilih kolom 'Pendapatan' saja\n",
    "print (raw_data['Pendapatan'])\n",
    " \n",
    "# Memilih kolom 'Jenis Kelamin' dan 'Pendapatan'\n",
    "print (raw_data[['Jenis Kelamin', 'Pendapatan']])"
   ]
  },
  {
   "cell_type": "code",
   "execution_count": null,
   "id": "complicated-jacket",
   "metadata": {},
   "outputs": [],
   "source": [
    "# mengambil data dari baris ke-0 sampai baris ke-(10-1) atau baris ke-9\n",
    "print(raw_data[:10])\n",
    " \n",
    "# mengambil data dari baris ke-3 sampai baris ke-(5-1) atau baris ke-4\n",
    "print(raw_data[3:5])\n",
    " \n",
    "# mengambil data pada baris ke-1, ke-3 dan ke-10\n",
    "print(raw_data.loc[[1,3,10]])\n",
    "\n",
    "# Mengambil kolom 'Jenis Kelamin' dan 'Pendapatan' dan ambil baris ke-1 sampai ke-9\n",
    "print(raw_data[['Jenis Kelamin', 'Pendapatan']][1:10])\n",
    " \n",
    "# Mengambil kolom 'Harga' dan 'Tingkat Kepuasan' dan ambil baris ke-1, ke-10 dan ke-15\n",
    "print(raw_data[['Harga', 'Tingkat Kepuasan']].loc[[1,10,15]])"
   ]
  },
  {
   "cell_type": "code",
   "execution_count": null,
   "id": "allied-bradford",
   "metadata": {},
   "outputs": [],
   "source": [
    "Jika kita ingin memilih kolom `Jenis Kelamin' pada baris ke-3 sampai ke-10, maka kode yang tepat adalah:\n",
    "\n",
    " raw_data['Jenis Kelamin'][3,10]\n",
    " raw_data['Jenis Kelamin'][3:10]\n",
    " raw_data['Jenis Kelamin'].loc[3:10]\n",
    " raw_data['Jenis Kelamin'][3,11]\n",
    " raw_data['Jenis Kelamin'][3:11]"
   ]
  },
  {
   "cell_type": "code",
   "execution_count": null,
   "id": "backed-daniel",
   "metadata": {},
   "outputs": [],
   "source": [
    "# mengambil hanya data untuk produk 'A'\n",
    "produk_A = raw_data[raw_data['Produk']=='A']\n",
    " \n",
    "# menghitung rerata pendapatan menggunakan method .mean pada objek pandas DataFrame\n",
    "print (produk_A['Pendapatan'].mean())\n",
    " \n",
    "# menghitung rerata pendapatan menggunakan method .mean pada objek pandas DataFrame dengan numpy\n",
    "print (np.mean(produk_A['Pendapatan']))"
   ]
  },
  {
   "cell_type": "code",
   "execution_count": null,
   "id": "brave-testing",
   "metadata": {},
   "outputs": [],
   "source": [
    "print (raw_data)\n",
    "# Hitung median dari pendapatan menggunakan pandas\n",
    "print (produk_A['Pendapatan'].median()\n",
    " \n",
    "# Hitung median dari pendapatan menggunakan numpy\n",
    "print (np.median(produk_A['Pendapatan']))"
   ]
  },
  {
   "cell_type": "code",
   "execution_count": null,
   "id": "driving-tract",
   "metadata": {},
   "outputs": [],
   "source": [
    "# Melihat jumlah dari masing-masing produk\n",
    "print(raw_data['Produk'].value_counts())"
   ]
  },
  {
   "cell_type": "code",
   "execution_count": 1,
   "id": "junior-requirement",
   "metadata": {},
   "outputs": [
    {
     "ename": "NameError",
     "evalue": "name 'raw_data' is not defined",
     "output_type": "error",
     "traceback": [
      "\u001b[1;31m---------------------------------------------------------------------------\u001b[0m",
      "\u001b[1;31mNameError\u001b[0m                                 Traceback (most recent call last)",
      "\u001b[1;32m<ipython-input-1-992153ba3641>\u001b[0m in \u001b[0;36m<module>\u001b[1;34m\u001b[0m\n\u001b[0;32m      1\u001b[0m \u001b[1;31m# menghitung rerata dan median 'Pendapatan' dan 'Harga'\u001b[0m\u001b[1;33m\u001b[0m\u001b[1;33m\u001b[0m\u001b[1;33m\u001b[0m\u001b[0m\n\u001b[1;32m----> 2\u001b[1;33m \u001b[0mraw_data\u001b[0m\u001b[1;33m[\u001b[0m\u001b[1;33m[\u001b[0m\u001b[1;34m'Pendapatan'\u001b[0m\u001b[1;33m,\u001b[0m \u001b[1;34m'Harga'\u001b[0m\u001b[1;33m]\u001b[0m\u001b[1;33m]\u001b[0m\u001b[1;33m.\u001b[0m\u001b[0magg\u001b[0m\u001b[1;33m(\u001b[0m\u001b[1;33m[\u001b[0m\u001b[0mnp\u001b[0m\u001b[1;33m.\u001b[0m\u001b[0mmean\u001b[0m\u001b[1;33m,\u001b[0m \u001b[0mnp\u001b[0m\u001b[1;33m.\u001b[0m\u001b[0mmedian\u001b[0m\u001b[1;33m]\u001b[0m\u001b[1;33m)\u001b[0m\u001b[1;33m\u001b[0m\u001b[1;33m\u001b[0m\u001b[0m\n\u001b[0m\u001b[0;32m      3\u001b[0m \u001b[1;33m\u001b[0m\u001b[0m\n\u001b[0;32m      4\u001b[0m \u001b[1;31m# menghitung rerata dan median Pendapatan dan Harga dari tiap produk\u001b[0m\u001b[1;33m\u001b[0m\u001b[1;33m\u001b[0m\u001b[1;33m\u001b[0m\u001b[0m\n\u001b[0;32m      5\u001b[0m \u001b[0mraw_data\u001b[0m\u001b[1;33m[\u001b[0m\u001b[1;33m[\u001b[0m\u001b[1;34m'Pendapatan'\u001b[0m\u001b[1;33m,\u001b[0m \u001b[1;34m'Harga'\u001b[0m\u001b[1;33m,\u001b[0m \u001b[1;34m'Produk'\u001b[0m\u001b[1;33m]\u001b[0m\u001b[1;33m]\u001b[0m\u001b[1;33m.\u001b[0m\u001b[0mgroupby\u001b[0m\u001b[1;33m(\u001b[0m\u001b[1;34m'Produk'\u001b[0m\u001b[1;33m)\u001b[0m\u001b[1;33m.\u001b[0m\u001b[0magg\u001b[0m\u001b[1;33m(\u001b[0m\u001b[1;33m[\u001b[0m\u001b[0mnp\u001b[0m\u001b[1;33m.\u001b[0m\u001b[0mmean\u001b[0m\u001b[1;33m,\u001b[0m \u001b[0mnp\u001b[0m\u001b[1;33m.\u001b[0m\u001b[0mmedian\u001b[0m\u001b[1;33m]\u001b[0m\u001b[1;33m)\u001b[0m\u001b[1;33m\u001b[0m\u001b[1;33m\u001b[0m\u001b[0m\n",
      "\u001b[1;31mNameError\u001b[0m: name 'raw_data' is not defined"
     ]
    }
   ],
   "source": [
    "# menghitung rerata dan median 'Pendapatan' dan 'Harga'\n",
    "print(raw_data[['Pendapatan', 'Harga']].agg([np.mean, np.median]))\n",
    " \n",
    "# menghitung rerata dan median Pendapatan dan Harga dari tiap produk\n",
    "print(raw_data[['Pendapatan', 'Harga', 'Produk']].groupby('Produk').agg([np.mean, np.median]))"
   ]
  },
  {
   "cell_type": "code",
   "execution_count": null,
   "id": "selective-disposition",
   "metadata": {},
   "outputs": [],
   "source": [
    "# cari proporsi tiap Produk\n",
    "print(raw_data['Produk'].value_counts()/raw_data.shape[0])"
   ]
  },
  {
   "cell_type": "code",
   "execution_count": null,
   "id": "known-request",
   "metadata": {},
   "outputs": [],
   "source": [
    "# Cari nilai rentang dari kolom 'Pendapatan'\n",
    "print (raw_data['Pendapatan'].max() - raw_data['Pendapatan'].min())"
   ]
  },
  {
   "cell_type": "code",
   "execution_count": null,
   "id": "parliamentary-clothing",
   "metadata": {},
   "outputs": [],
   "source": [
    "# menghitung variansi umur menggunakan method .var() dari pandas\n",
    "print (raw_data['Pendapatan'].var())\n",
    " \n",
    "# menghitung variansi umur menggunakan method .var() dari numpy\n",
    "print (np.var(raw_data['Pendapatan']))\n",
    "\n",
    "# mengatur variansi populasi dengan method `.var()` dari pandas\n",
    "print (raw_data['Pendapatan'].var(ddof=0))"
   ]
  },
  {
   "cell_type": "code",
   "execution_count": null,
   "id": "expired-campus",
   "metadata": {},
   "outputs": [],
   "source": [
    "# menghitung deviasi baku sampel pendapatan menggunakan method std() dari pandas\n",
    "print (raw_data['Pendapatan'].std())\n",
    " \n",
    "# menghitung deviasi baku sampel pendapatan menggunakan method std() dari numpy\n",
    "print (np.std(raw_datata['Pendapatan'], ddof = 1))"
   ]
  },
  {
   "cell_type": "code",
   "execution_count": null,
   "id": "tired-clark",
   "metadata": {},
   "outputs": [],
   "source": [
    "# menghitung korelasi dari setiap pasang variabel pada raw_data\n",
    "print (raw_data.corr())\n",
    "\n",
    "# mencari korelasi 'kendall' untuk tiap pasang variabel\n",
    "print (raw_data.corr(method='kendall'))\n",
    " \n",
    "# mencari korelasi 'spearman' untuk tiap pasang variabel\n",
    "print (raw_data.corr(method='spearman'))"
   ]
  }
 ],
 "metadata": {
  "kernelspec": {
   "display_name": "Python 3",
   "language": "python",
   "name": "python3"
  },
  "language_info": {
   "codemirror_mode": {
    "name": "ipython",
    "version": 3
   },
   "file_extension": ".py",
   "mimetype": "text/x-python",
   "name": "python",
   "nbconvert_exporter": "python",
   "pygments_lexer": "ipython3",
   "version": "3.8.5"
  }
 },
 "nbformat": 4,
 "nbformat_minor": 5
}
