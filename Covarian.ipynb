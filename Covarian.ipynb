{
 "cells": [
  {
   "cell_type": "code",
   "execution_count": 3,
   "id": "demographic-sphere",
   "metadata": {},
   "outputs": [],
   "source": [
    "import pandas as pd\n",
    "seq2 = pd.Series([3,4,3,4,5,4,3,2],['2006','2007','2008','2009','2010','2011','2012','2013'])\n",
    "seq = pd.Series([1,2,3,4,4,3,2,1],['2006','2007','2008','2009','2010','2011','2012','2013'])"
   ]
  },
  {
   "cell_type": "code",
   "execution_count": 5,
   "id": "thrown-armenia",
   "metadata": {},
   "outputs": [
    {
     "data": {
      "text/plain": [
       "0.7745966692414834"
      ]
     },
     "execution_count": 5,
     "metadata": {},
     "output_type": "execute_result"
    }
   ],
   "source": [
    "seq2.corr(seq)"
   ]
  },
  {
   "cell_type": "code",
   "execution_count": 6,
   "id": "animal-stretch",
   "metadata": {},
   "outputs": [],
   "source": [
    "a = seq2.mean()"
   ]
  },
  {
   "cell_type": "code",
   "execution_count": 7,
   "id": "timely-fairy",
   "metadata": {},
   "outputs": [
    {
     "data": {
      "text/plain": [
       "3.5"
      ]
     },
     "execution_count": 7,
     "metadata": {},
     "output_type": "execute_result"
    }
   ],
   "source": [
    "a"
   ]
  },
  {
   "cell_type": "code",
   "execution_count": 9,
   "id": "increasing-discovery",
   "metadata": {},
   "outputs": [],
   "source": [
    "b = seq.mean()"
   ]
  },
  {
   "cell_type": "code",
   "execution_count": 10,
   "id": "enormous-interim",
   "metadata": {},
   "outputs": [],
   "source": [
    "c = a * b"
   ]
  },
  {
   "cell_type": "code",
   "execution_count": 12,
   "id": "equivalent-costume",
   "metadata": {},
   "outputs": [],
   "source": [
    "d = seq2.cov(seq)"
   ]
  },
  {
   "cell_type": "code",
   "execution_count": 13,
   "id": "fresh-reasoning",
   "metadata": {},
   "outputs": [
    {
     "data": {
      "text/plain": [
       "0.8571428571428571"
      ]
     },
     "execution_count": 13,
     "metadata": {},
     "output_type": "execute_result"
    }
   ],
   "source": [
    "d"
   ]
  },
  {
   "cell_type": "code",
   "execution_count": 14,
   "id": "hired-procurement",
   "metadata": {},
   "outputs": [
    {
     "data": {
      "text/plain": [
       "0.09795918367346938"
      ]
     },
     "execution_count": 14,
     "metadata": {},
     "output_type": "execute_result"
    }
   ],
   "source": [
    "d/c"
   ]
  },
  {
   "cell_type": "code",
   "execution_count": 15,
   "id": "conditional-writer",
   "metadata": {},
   "outputs": [
    {
     "data": {
      "text/plain": [
       "8.75"
      ]
     },
     "execution_count": 15,
     "metadata": {},
     "output_type": "execute_result"
    }
   ],
   "source": [
    "c"
   ]
  },
  {
   "cell_type": "code",
   "execution_count": null,
   "id": "aquatic-university",
   "metadata": {},
   "outputs": [],
   "source": []
  }
 ],
 "metadata": {
  "kernelspec": {
   "display_name": "Python 3",
   "language": "python",
   "name": "python3"
  },
  "language_info": {
   "codemirror_mode": {
    "name": "ipython",
    "version": 3
   },
   "file_extension": ".py",
   "mimetype": "text/x-python",
   "name": "python",
   "nbconvert_exporter": "python",
   "pygments_lexer": "ipython3",
   "version": "3.8.5"
  }
 },
 "nbformat": 4,
 "nbformat_minor": 5
}
