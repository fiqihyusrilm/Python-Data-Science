{
 "cells": [
  {
   "cell_type": "code",
   "execution_count": 1,
   "id": "persistent-charm",
   "metadata": {},
   "outputs": [],
   "source": [
    "import pandas as pd"
   ]
  },
  {
   "cell_type": "code",
   "execution_count": 2,
   "id": "polyphonic-teacher",
   "metadata": {},
   "outputs": [],
   "source": [
    "a = 'fsdgskgsg'"
   ]
  },
  {
   "cell_type": "code",
   "execution_count": null,
   "id": "quiet-essence",
   "metadata": {},
   "outputs": [],
   "source": [
    "a.read"
   ]
  }
 ],
 "metadata": {
  "kernelspec": {
   "display_name": "Python 3",
   "language": "python",
   "name": "python3"
  },
  "language_info": {
   "codemirror_mode": {
    "name": "ipython",
    "version": 3
   },
   "file_extension": ".py",
   "mimetype": "text/x-python",
   "name": "python",
   "nbconvert_exporter": "python",
   "pygments_lexer": "ipython3",
   "version": "3.8.5"
  }
 },
 "nbformat": 4,
 "nbformat_minor": 5
}
