{
 "cells": [
  {
   "cell_type": "code",
   "execution_count": 1,
   "id": "willing-awareness",
   "metadata": {},
   "outputs": [
    {
     "name": "stdout",
     "output_type": "stream",
     "text": [
      "Pivoting dataframe:\n",
      " pelajaran kelas    english  math\n",
      "0             A  68.333333  70.0\n",
      "1             B  55.000000  85.0\n",
      "Melting dataframe dengan value_vars:\n",
      "   pelajaran  value\n",
      "0      math   70.0\n",
      "1      math   85.0\n",
      "Melting dataframe dengan id_vars dan value_vars:\n",
      "   kelas pelajaran  value\n",
      "0     A      math   70.0\n",
      "1     B      math   85.0\n",
      "Melting dataframe dengan id_vars, value_vars, var_name. dan value_name:\n",
      "   kelas pelajaran      nilai\n",
      "0     A   english  68.333333\n",
      "1     B   english  55.000000\n",
      "2     A      math  70.000000\n",
      "3     B      math  85.000000\n"
     ]
    }
   ],
   "source": [
    "import pandas as pd\n",
    "# Dataframe\n",
    "data = pd.DataFrame({\n",
    "  'kelas': 6*['A'] + 6*['B'],\n",
    "  'murid': 2*['A1'] + 2*['A2'] + 2*['A3'] + 2*['B1'] + 2*['B2'] + 2*['B3'],\n",
    "  'pelajaran': 6*['math','english'],\n",
    "  'nilai': [90,60,70,85,50,60,100,40,95,80,60,45]\n",
    "}, columns=['kelas','murid','pelajaran','nilai'])\n",
    "# Pivoting dataframe\n",
    "data_pivot = data.pivot_table(index='kelas',columns='pelajaran',values='nilai', aggfunc='mean').reset_index()\n",
    "print('Pivoting dataframe:\\n', data_pivot)\n",
    "# [3.a] Melting dataframe data_pivot dengan value_vars\n",
    "data_melt_3a = pd.melt(data_pivot, value_vars=['math'])\n",
    "print('Melting dataframe dengan value_vars:\\n', data_melt_3a)\n",
    "# [3.b] Melting dataframe data_pivot dengan id_vars dan value_vars\n",
    "data_melt_3b = pd.melt(data_pivot, id_vars='kelas', value_vars=['math'])\n",
    "print('Melting dataframe dengan id_vars dan value_vars:\\n', data_melt_3b)\n",
    "# [4] Melting dataframe data_pivot dengan id_vars, value_vars, var_name. dan value_name\n",
    "data_melt_4 = pd.melt(data_pivot, id_vars='kelas', value_vars=['english','math'], var_name='pelajaran', value_name='nilai')\n",
    "print('Melting dataframe dengan id_vars, value_vars, var_name. dan value_name:\\n', data_melt_4)"
   ]
  },
  {
   "cell_type": "code",
   "execution_count": 2,
   "id": "massive-intelligence",
   "metadata": {},
   "outputs": [
    {
     "data": {
      "text/html": [
       "<div>\n",
       "<style scoped>\n",
       "    .dataframe tbody tr th:only-of-type {\n",
       "        vertical-align: middle;\n",
       "    }\n",
       "\n",
       "    .dataframe tbody tr th {\n",
       "        vertical-align: top;\n",
       "    }\n",
       "\n",
       "    .dataframe thead th {\n",
       "        text-align: right;\n",
       "    }\n",
       "</style>\n",
       "<table border=\"1\" class=\"dataframe\">\n",
       "  <thead>\n",
       "    <tr style=\"text-align: right;\">\n",
       "      <th></th>\n",
       "      <th>kelas</th>\n",
       "      <th>murid</th>\n",
       "      <th>pelajaran</th>\n",
       "      <th>nilai</th>\n",
       "    </tr>\n",
       "  </thead>\n",
       "  <tbody>\n",
       "    <tr>\n",
       "      <th>0</th>\n",
       "      <td>A</td>\n",
       "      <td>A1</td>\n",
       "      <td>math</td>\n",
       "      <td>90</td>\n",
       "    </tr>\n",
       "    <tr>\n",
       "      <th>1</th>\n",
       "      <td>A</td>\n",
       "      <td>A1</td>\n",
       "      <td>english</td>\n",
       "      <td>60</td>\n",
       "    </tr>\n",
       "    <tr>\n",
       "      <th>2</th>\n",
       "      <td>A</td>\n",
       "      <td>A2</td>\n",
       "      <td>math</td>\n",
       "      <td>70</td>\n",
       "    </tr>\n",
       "    <tr>\n",
       "      <th>3</th>\n",
       "      <td>A</td>\n",
       "      <td>A2</td>\n",
       "      <td>english</td>\n",
       "      <td>85</td>\n",
       "    </tr>\n",
       "    <tr>\n",
       "      <th>4</th>\n",
       "      <td>A</td>\n",
       "      <td>A3</td>\n",
       "      <td>math</td>\n",
       "      <td>50</td>\n",
       "    </tr>\n",
       "    <tr>\n",
       "      <th>5</th>\n",
       "      <td>A</td>\n",
       "      <td>A3</td>\n",
       "      <td>english</td>\n",
       "      <td>60</td>\n",
       "    </tr>\n",
       "    <tr>\n",
       "      <th>6</th>\n",
       "      <td>B</td>\n",
       "      <td>B1</td>\n",
       "      <td>math</td>\n",
       "      <td>100</td>\n",
       "    </tr>\n",
       "    <tr>\n",
       "      <th>7</th>\n",
       "      <td>B</td>\n",
       "      <td>B1</td>\n",
       "      <td>english</td>\n",
       "      <td>40</td>\n",
       "    </tr>\n",
       "    <tr>\n",
       "      <th>8</th>\n",
       "      <td>B</td>\n",
       "      <td>B2</td>\n",
       "      <td>math</td>\n",
       "      <td>95</td>\n",
       "    </tr>\n",
       "    <tr>\n",
       "      <th>9</th>\n",
       "      <td>B</td>\n",
       "      <td>B2</td>\n",
       "      <td>english</td>\n",
       "      <td>80</td>\n",
       "    </tr>\n",
       "    <tr>\n",
       "      <th>10</th>\n",
       "      <td>B</td>\n",
       "      <td>B3</td>\n",
       "      <td>math</td>\n",
       "      <td>60</td>\n",
       "    </tr>\n",
       "    <tr>\n",
       "      <th>11</th>\n",
       "      <td>B</td>\n",
       "      <td>B3</td>\n",
       "      <td>english</td>\n",
       "      <td>45</td>\n",
       "    </tr>\n",
       "  </tbody>\n",
       "</table>\n",
       "</div>"
      ],
      "text/plain": [
       "   kelas murid pelajaran  nilai\n",
       "0      A    A1      math     90\n",
       "1      A    A1   english     60\n",
       "2      A    A2      math     70\n",
       "3      A    A2   english     85\n",
       "4      A    A3      math     50\n",
       "5      A    A3   english     60\n",
       "6      B    B1      math    100\n",
       "7      B    B1   english     40\n",
       "8      B    B2      math     95\n",
       "9      B    B2   english     80\n",
       "10     B    B3      math     60\n",
       "11     B    B3   english     45"
      ]
     },
     "execution_count": 2,
     "metadata": {},
     "output_type": "execute_result"
    }
   ],
   "source": [
    "data"
   ]
  },
  {
   "cell_type": "code",
   "execution_count": 3,
   "id": "stable-barrel",
   "metadata": {},
   "outputs": [
    {
     "name": "stdout",
     "output_type": "stream",
     "text": [
      "Pivoting dataframe:\n",
      " pelajaran kelas    english  math\n",
      "0             A  68.333333  70.0\n",
      "1             B  55.000000  85.0\n"
     ]
    }
   ],
   "source": [
    "data_pivot = data.pivot_table(index='kelas',columns='pelajaran',values='nilai', aggfunc='mean').reset_index()\n",
    "print('Pivoting dataframe:\\n', data_pivot)"
   ]
  },
  {
   "cell_type": "code",
   "execution_count": 4,
   "id": "aquatic-zoning",
   "metadata": {},
   "outputs": [
    {
     "name": "stdout",
     "output_type": "stream",
     "text": [
      "Melting dataframe dengan value_vars:\n",
      "   pelajaran  value\n",
      "0      math   70.0\n",
      "1      math   85.0\n"
     ]
    }
   ],
   "source": [
    "data_melt_3a = pd.melt(data_pivot, value_vars=['math'])\n",
    "print('Melting dataframe dengan value_vars:\\n', data_melt_3a)"
   ]
  },
  {
   "cell_type": "code",
   "execution_count": 5,
   "id": "growing-empty",
   "metadata": {},
   "outputs": [
    {
     "name": "stdout",
     "output_type": "stream",
     "text": [
      "Melting dataframe dengan id_vars dan value_vars:\n",
      "   kelas pelajaran  value\n",
      "0     A      math   70.0\n",
      "1     B      math   85.0\n"
     ]
    }
   ],
   "source": [
    "data_melt_3b = pd.melt(data_pivot, id_vars='kelas', value_vars=['math'])\n",
    "print('Melting dataframe dengan id_vars dan value_vars:\\n', data_melt_3b)"
   ]
  },
  {
   "cell_type": "code",
   "execution_count": 6,
   "id": "physical-robert",
   "metadata": {},
   "outputs": [
    {
     "name": "stdout",
     "output_type": "stream",
     "text": [
      "Melting dataframe dengan id_vars, value_vars, var_name. dan value_name:\n",
      "   kelas pelajaran      nilai\n",
      "0     A   english  68.333333\n",
      "1     B   english  55.000000\n",
      "2     A      math  70.000000\n",
      "3     B      math  85.000000\n"
     ]
    }
   ],
   "source": [
    "data_melt_4 = pd.melt(data_pivot, id_vars='kelas', value_vars=['english','math'], var_name='pelajaran', value_name='nilai')\n",
    "print('Melting dataframe dengan id_vars, value_vars, var_name. dan value_name:\\n', data_melt_4)"
   ]
  },
  {
   "cell_type": "code",
   "execution_count": null,
   "id": "adjusted-wesley",
   "metadata": {},
   "outputs": [],
   "source": []
  }
 ],
 "metadata": {
  "kernelspec": {
   "display_name": "Python 3",
   "language": "python",
   "name": "python3"
  },
  "language_info": {
   "codemirror_mode": {
    "name": "ipython",
    "version": 3
   },
   "file_extension": ".py",
   "mimetype": "text/x-python",
   "name": "python",
   "nbconvert_exporter": "python",
   "pygments_lexer": "ipython3",
   "version": "3.8.5"
  }
 },
 "nbformat": 4,
 "nbformat_minor": 5
}
