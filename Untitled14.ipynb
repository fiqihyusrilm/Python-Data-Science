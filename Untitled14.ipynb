{
 "cells": [
  {
   "cell_type": "code",
   "execution_count": 1,
   "id": "environmental-brazil",
   "metadata": {},
   "outputs": [
    {
     "name": "stdout",
     "output_type": "stream",
     "text": [
      "Collecting jupyterlab-kite>=2.0.2\n",
      "  Downloading jupyterlab-kite-2.0.2.tar.gz (266 kB)\n",
      "Collecting jupyter_kite>=2.0.0\n",
      "  Downloading jupyter-kite-2.0.2.tar.gz (28 kB)\n",
      "Requirement already satisfied: tornado>=5.1.0 in c:\\users\\fiqih\\anaconda3\\lib\\site-packages (from jupyter_kite>=2.0.0->jupyterlab-kite>=2.0.2) (6.1)\n",
      "Requirement already satisfied: entrypoints in c:\\users\\fiqih\\anaconda3\\lib\\site-packages (from jupyter_kite>=2.0.0->jupyterlab-kite>=2.0.2) (0.3)\n",
      "Collecting jupyter_server>=1.1.2\n",
      "  Downloading jupyter_server-1.2.3-py3-none-any.whl (188 kB)\n",
      "Requirement already satisfied: nbconvert in c:\\users\\fiqih\\anaconda3\\lib\\site-packages (from jupyter_server>=1.1.2->jupyter_kite>=2.0.0->jupyterlab-kite>=2.0.2) (6.0.7)\n",
      "Requirement already satisfied: nbformat in c:\\users\\fiqih\\anaconda3\\lib\\site-packages (from jupyter_server>=1.1.2->jupyter_kite>=2.0.0->jupyterlab-kite>=2.0.2) (5.1.2)\n",
      "Requirement already satisfied: jinja2 in c:\\users\\fiqih\\anaconda3\\lib\\site-packages (from jupyter_server>=1.1.2->jupyter_kite>=2.0.0->jupyterlab-kite>=2.0.2) (2.11.2)\n",
      "Requirement already satisfied: Send2Trash in c:\\users\\fiqih\\anaconda3\\lib\\site-packages (from jupyter_server>=1.1.2->jupyter_kite>=2.0.0->jupyterlab-kite>=2.0.2) (1.5.0)\n",
      "Requirement already satisfied: ipython-genutils in c:\\users\\fiqih\\anaconda3\\lib\\site-packages (from jupyter_server>=1.1.2->jupyter_kite>=2.0.0->jupyterlab-kite>=2.0.2) (0.2.0)\n",
      "Requirement already satisfied: prometheus-client in c:\\users\\fiqih\\anaconda3\\lib\\site-packages (from jupyter_server>=1.1.2->jupyter_kite>=2.0.0->jupyterlab-kite>=2.0.2) (0.9.0)\n",
      "Requirement already satisfied: terminado>=0.8.3 in c:\\users\\fiqih\\anaconda3\\lib\\site-packages (from jupyter_server>=1.1.2->jupyter_kite>=2.0.0->jupyterlab-kite>=2.0.2) (0.9.2)\n",
      "Requirement already satisfied: jupyter-client>=6.1.1 in c:\\users\\fiqih\\anaconda3\\lib\\site-packages (from jupyter_server>=1.1.2->jupyter_kite>=2.0.0->jupyterlab-kite>=2.0.2) (6.1.7)\n",
      "Requirement already satisfied: traitlets>=4.2.1 in c:\\users\\fiqih\\anaconda3\\lib\\site-packages (from jupyter_server>=1.1.2->jupyter_kite>=2.0.0->jupyterlab-kite>=2.0.2) (5.0.5)\n",
      "Requirement already satisfied: pywin32>=1.0 in c:\\users\\fiqih\\anaconda3\\lib\\site-packages (from jupyter_server>=1.1.2->jupyter_kite>=2.0.0->jupyterlab-kite>=2.0.2) (227)\n",
      "Requirement already satisfied: pyzmq>=17 in c:\\users\\fiqih\\anaconda3\\lib\\site-packages (from jupyter_server>=1.1.2->jupyter_kite>=2.0.0->jupyterlab-kite>=2.0.2) (20.0.0)\n",
      "Requirement already satisfied: jupyter-core>=4.4.0 in c:\\users\\fiqih\\anaconda3\\lib\\site-packages (from jupyter_server>=1.1.2->jupyter_kite>=2.0.0->jupyterlab-kite>=2.0.2) (4.7.0)\n",
      "Collecting anyio>=2.0.2\n",
      "  Using cached anyio-2.0.2-py3-none-any.whl (62 kB)\n",
      "Requirement already satisfied: idna>=2.8 in c:\\users\\fiqih\\anaconda3\\lib\\site-packages (from anyio>=2.0.2->jupyter_server>=1.1.2->jupyter_kite>=2.0.0->jupyterlab-kite>=2.0.2) (2.10)\n",
      "Requirement already satisfied: python-dateutil>=2.1 in c:\\users\\fiqih\\anaconda3\\lib\\site-packages (from jupyter-client>=6.1.1->jupyter_server>=1.1.2->jupyter_kite>=2.0.0->jupyterlab-kite>=2.0.2) (2.8.1)\n",
      "Collecting jupyterlab<4.0.0a0,>=3.0.0\n",
      "  Downloading jupyterlab-3.0.6-py3-none-any.whl (8.3 MB)\n",
      "Requirement already satisfied: ipython in c:\\users\\fiqih\\anaconda3\\lib\\site-packages (from jupyterlab<4.0.0a0,>=3.0.0->jupyterlab-kite>=2.0.2) (7.19.0)\n",
      "Requirement already satisfied: packaging in c:\\users\\fiqih\\anaconda3\\lib\\site-packages (from jupyterlab<4.0.0a0,>=3.0.0->jupyterlab-kite>=2.0.2) (20.9)\n",
      "Requirement already satisfied: MarkupSafe>=0.23 in c:\\users\\fiqih\\anaconda3\\lib\\site-packages (from jinja2->jupyter_server>=1.1.2->jupyter_kite>=2.0.0->jupyterlab-kite>=2.0.2) (1.1.1)\n",
      "Collecting jupyterlab-server~=2.0\n",
      "  Downloading jupyterlab_server-2.1.3-py3-none-any.whl (47 kB)\n",
      "Requirement already satisfied: requests in c:\\users\\fiqih\\anaconda3\\lib\\site-packages (from jupyterlab-server~=2.0->jupyterlab<4.0.0a0,>=3.0.0->jupyterlab-kite>=2.0.2) (2.25.1)\n",
      "Requirement already satisfied: json5 in c:\\users\\fiqih\\anaconda3\\lib\\site-packages (from jupyterlab-server~=2.0->jupyterlab<4.0.0a0,>=3.0.0->jupyterlab-kite>=2.0.2) (0.9.5)\n",
      "Requirement already satisfied: jsonschema>=3.0.1 in c:\\users\\fiqih\\anaconda3\\lib\\site-packages (from jupyterlab-server~=2.0->jupyterlab<4.0.0a0,>=3.0.0->jupyterlab-kite>=2.0.2) (3.2.0)\n",
      "Requirement already satisfied: setuptools in c:\\users\\fiqih\\anaconda3\\lib\\site-packages (from jsonschema>=3.0.1->jupyterlab-server~=2.0->jupyterlab<4.0.0a0,>=3.0.0->jupyterlab-kite>=2.0.2) (52.0.0.post20210125)\n",
      "Requirement already satisfied: attrs>=17.4.0 in c:\\users\\fiqih\\anaconda3\\lib\\site-packages (from jsonschema>=3.0.1->jupyterlab-server~=2.0->jupyterlab<4.0.0a0,>=3.0.0->jupyterlab-kite>=2.0.2) (20.3.0)\n",
      "Requirement already satisfied: six>=1.11.0 in c:\\users\\fiqih\\anaconda3\\lib\\site-packages (from jsonschema>=3.0.1->jupyterlab-server~=2.0->jupyterlab<4.0.0a0,>=3.0.0->jupyterlab-kite>=2.0.2) (1.15.0)\n",
      "Requirement already satisfied: pyrsistent>=0.14.0 in c:\\users\\fiqih\\anaconda3\\lib\\site-packages (from jsonschema>=3.0.1->jupyterlab-server~=2.0->jupyterlab<4.0.0a0,>=3.0.0->jupyterlab-kite>=2.0.2) (0.17.3)\n",
      "Collecting nbclassic~=0.2\n",
      "  Downloading nbclassic-0.2.6-py3-none-any.whl (18 kB)\n",
      "Requirement already satisfied: notebook<7 in c:\\users\\fiqih\\anaconda3\\lib\\site-packages (from nbclassic~=0.2->jupyterlab<4.0.0a0,>=3.0.0->jupyterlab-kite>=2.0.2) (6.2.0)\n",
      "Requirement already satisfied: argon2-cffi in c:\\users\\fiqih\\anaconda3\\lib\\site-packages (from notebook<7->nbclassic~=0.2->jupyterlab<4.0.0a0,>=3.0.0->jupyterlab-kite>=2.0.2) (20.1.0)\n",
      "Requirement already satisfied: ipykernel in c:\\users\\fiqih\\anaconda3\\lib\\site-packages (from notebook<7->nbclassic~=0.2->jupyterlab<4.0.0a0,>=3.0.0->jupyterlab-kite>=2.0.2) (5.3.4)\n",
      "Collecting sniffio>=1.1\n",
      "  Using cached sniffio-1.2.0-py3-none-any.whl (10 kB)\n",
      "Requirement already satisfied: pywinpty>=0.5 in c:\\users\\fiqih\\anaconda3\\lib\\site-packages (from terminado>=0.8.3->jupyter_server>=1.1.2->jupyter_kite>=2.0.0->jupyterlab-kite>=2.0.2) (0.5.7)\n",
      "Requirement already satisfied: cffi>=1.0.0 in c:\\users\\fiqih\\anaconda3\\lib\\site-packages (from argon2-cffi->notebook<7->nbclassic~=0.2->jupyterlab<4.0.0a0,>=3.0.0->jupyterlab-kite>=2.0.2) (1.14.4)\n",
      "Requirement already satisfied: pycparser in c:\\users\\fiqih\\anaconda3\\lib\\site-packages (from cffi>=1.0.0->argon2-cffi->notebook<7->nbclassic~=0.2->jupyterlab<4.0.0a0,>=3.0.0->jupyterlab-kite>=2.0.2) (2.20)\n",
      "Collecting babel\n",
      "  Using cached Babel-2.9.0-py2.py3-none-any.whl (8.8 MB)\n",
      "Requirement already satisfied: pytz>=2015.7 in c:\\users\\fiqih\\anaconda3\\lib\\site-packages (from babel->jupyterlab-server~=2.0->jupyterlab<4.0.0a0,>=3.0.0->jupyterlab-kite>=2.0.2) (2020.5)\n",
      "Requirement already satisfied: colorama in c:\\users\\fiqih\\anaconda3\\lib\\site-packages (from ipython->jupyterlab<4.0.0a0,>=3.0.0->jupyterlab-kite>=2.0.2) (0.4.4)\n",
      "Requirement already satisfied: backcall in c:\\users\\fiqih\\anaconda3\\lib\\site-packages (from ipython->jupyterlab<4.0.0a0,>=3.0.0->jupyterlab-kite>=2.0.2) (0.2.0)\n",
      "Requirement already satisfied: prompt-toolkit!=3.0.0,!=3.0.1,<3.1.0,>=2.0.0 in c:\\users\\fiqih\\anaconda3\\lib\\site-packages (from ipython->jupyterlab<4.0.0a0,>=3.0.0->jupyterlab-kite>=2.0.2) (3.0.8)\n",
      "Requirement already satisfied: jedi>=0.10 in c:\\users\\fiqih\\anaconda3\\lib\\site-packages (from ipython->jupyterlab<4.0.0a0,>=3.0.0->jupyterlab-kite>=2.0.2) (0.17.0)\n",
      "Requirement already satisfied: pickleshare in c:\\users\\fiqih\\anaconda3\\lib\\site-packages (from ipython->jupyterlab<4.0.0a0,>=3.0.0->jupyterlab-kite>=2.0.2) (0.7.5)\n",
      "Requirement already satisfied: decorator in c:\\users\\fiqih\\anaconda3\\lib\\site-packages (from ipython->jupyterlab<4.0.0a0,>=3.0.0->jupyterlab-kite>=2.0.2) (4.4.2)\n",
      "Requirement already satisfied: pygments in c:\\users\\fiqih\\anaconda3\\lib\\site-packages (from ipython->jupyterlab<4.0.0a0,>=3.0.0->jupyterlab-kite>=2.0.2) (2.7.4)\n",
      "Requirement already satisfied: parso>=0.7.0 in c:\\users\\fiqih\\anaconda3\\lib\\site-packages (from jedi>=0.10->ipython->jupyterlab<4.0.0a0,>=3.0.0->jupyterlab-kite>=2.0.2) (0.8.1)\n",
      "Requirement already satisfied: wcwidth in c:\\users\\fiqih\\anaconda3\\lib\\site-packages (from prompt-toolkit!=3.0.0,!=3.0.1,<3.1.0,>=2.0.0->ipython->jupyterlab<4.0.0a0,>=3.0.0->jupyterlab-kite>=2.0.2) (0.2.5)\n",
      "Requirement already satisfied: jupyterlab-pygments in c:\\users\\fiqih\\anaconda3\\lib\\site-packages (from nbconvert->jupyter_server>=1.1.2->jupyter_kite>=2.0.0->jupyterlab-kite>=2.0.2) (0.1.2)\n",
      "Requirement already satisfied: pandocfilters>=1.4.1 in c:\\users\\fiqih\\anaconda3\\lib\\site-packages (from nbconvert->jupyter_server>=1.1.2->jupyter_kite>=2.0.0->jupyterlab-kite>=2.0.2) (1.4.3)\n",
      "Requirement already satisfied: bleach in c:\\users\\fiqih\\anaconda3\\lib\\site-packages (from nbconvert->jupyter_server>=1.1.2->jupyter_kite>=2.0.0->jupyterlab-kite>=2.0.2) (3.2.3)\n",
      "Requirement already satisfied: defusedxml in c:\\users\\fiqih\\anaconda3\\lib\\site-packages (from nbconvert->jupyter_server>=1.1.2->jupyter_kite>=2.0.0->jupyterlab-kite>=2.0.2) (0.6.0)\n",
      "Requirement already satisfied: nbclient<0.6.0,>=0.5.0 in c:\\users\\fiqih\\anaconda3\\lib\\site-packages (from nbconvert->jupyter_server>=1.1.2->jupyter_kite>=2.0.0->jupyterlab-kite>=2.0.2) (0.5.1)\n",
      "Requirement already satisfied: testpath in c:\\users\\fiqih\\anaconda3\\lib\\site-packages (from nbconvert->jupyter_server>=1.1.2->jupyter_kite>=2.0.0->jupyterlab-kite>=2.0.2) (0.4.4)\n",
      "Requirement already satisfied: mistune<2,>=0.8.1 in c:\\users\\fiqih\\anaconda3\\lib\\site-packages (from nbconvert->jupyter_server>=1.1.2->jupyter_kite>=2.0.0->jupyterlab-kite>=2.0.2) (0.8.4)\n",
      "Requirement already satisfied: nest-asyncio in c:\\users\\fiqih\\anaconda3\\lib\\site-packages (from nbclient<0.6.0,>=0.5.0->nbconvert->jupyter_server>=1.1.2->jupyter_kite>=2.0.0->jupyterlab-kite>=2.0.2) (1.4.3)\n",
      "Requirement already satisfied: async-generator in c:\\users\\fiqih\\anaconda3\\lib\\site-packages (from nbclient<0.6.0,>=0.5.0->nbconvert->jupyter_server>=1.1.2->jupyter_kite>=2.0.0->jupyterlab-kite>=2.0.2) (1.10)\n",
      "Requirement already satisfied: webencodings in c:\\users\\fiqih\\anaconda3\\lib\\site-packages (from bleach->nbconvert->jupyter_server>=1.1.2->jupyter_kite>=2.0.0->jupyterlab-kite>=2.0.2) (0.5.1)\n",
      "Requirement already satisfied: pyparsing>=2.0.2 in c:\\users\\fiqih\\anaconda3\\lib\\site-packages (from packaging->jupyterlab<4.0.0a0,>=3.0.0->jupyterlab-kite>=2.0.2) (2.4.7)\n",
      "Requirement already satisfied: certifi>=2017.4.17 in c:\\users\\fiqih\\anaconda3\\lib\\site-packages (from requests->jupyterlab-server~=2.0->jupyterlab<4.0.0a0,>=3.0.0->jupyterlab-kite>=2.0.2) (2020.12.5)\n",
      "Requirement already satisfied: chardet<5,>=3.0.2 in c:\\users\\fiqih\\anaconda3\\lib\\site-packages (from requests->jupyterlab-server~=2.0->jupyterlab<4.0.0a0,>=3.0.0->jupyterlab-kite>=2.0.2) (4.0.0)\n",
      "Note: you may need to restart the kernel to use updated packages.Requirement already satisfied: urllib3<1.27,>=1.21.1 in c:\\users\\fiqih\\anaconda3\\lib\\site-packages (from requests->jupyterlab-server~=2.0->jupyterlab<4.0.0a0,>=3.0.0->jupyterlab-kite>=2.0.2) (1.26.3)\n",
      "Building wheels for collected packages: jupyterlab-kite, jupyter-kite\n",
      "  Building wheel for jupyterlab-kite (setup.py): started\n",
      "  Building wheel for jupyterlab-kite (setup.py): finished with status 'done'\n",
      "  Created wheel for jupyterlab-kite: filename=jupyterlab_kite-2.0.2-py3-none-any.whl size=544931 sha256=fdee77df85fedca891a77ef56b1733375d63679ee81f78ec81db485aeba7c431\n",
      "  Stored in directory: c:\\users\\fiqih\\appdata\\local\\pip\\cache\\wheels\\c4\\73\\d8\\1f89ddacd9abc2cf3466c1a73ac01f657b5c81224626050243\n",
      "  Building wheel for jupyter-kite (setup.py): started\n",
      "  Building wheel for jupyter-kite (setup.py): finished with status 'done'\n",
      "  Created wheel for jupyter-kite: filename=jupyter_kite-2.0.2-py3-none-any.whl size=37335 sha256=b9e10bd13bc30054cb4162615fd10c4152f14eccc31fbcfce3906bdd8fc8a330\n",
      "  Stored in directory: c:\\users\\fiqih\\appdata\\local\\pip\\cache\\wheels\\4b\\bc\\80\\d572a0d5946ef9074df0912838ad9714a55179cc75cde6f13d\n",
      "Successfully built jupyterlab-kite jupyter-kite\n",
      "Installing collected packages: sniffio, anyio, jupyter-server, babel, nbclassic, jupyterlab-server, jupyterlab, jupyter-kite, jupyterlab-kite\n",
      "  Attempting uninstall: jupyterlab-server\n",
      "    Found existing installation: jupyterlab-server 1.2.0\n",
      "\n"
     ]
    },
    {
     "name": "stdout",
     "output_type": "stream",
     "text": [
      "    Uninstalling jupyterlab-server-1.2.0:\n",
      "      Successfully uninstalled jupyterlab-server-1.2.0\n",
      "  Attempting uninstall: jupyterlab\n",
      "    Found existing installation: jupyterlab 2.2.6\n",
      "    Uninstalling jupyterlab-2.2.6:\n",
      "      Successfully uninstalled jupyterlab-2.2.6\n",
      "Successfully installed anyio-2.0.2 babel-2.9.0 jupyter-kite-2.0.2 jupyter-server-1.2.3 jupyterlab-3.0.6 jupyterlab-kite-2.0.2 jupyterlab-server-2.1.3 nbclassic-0.2.6 sniffio-1.2.0\n"
     ]
    }
   ],
   "source": [
    "pip install \"jupyterlab-kite>=2.0.2\""
   ]
  },
  {
   "cell_type": "code",
   "execution_count": 2,
   "id": "radical-vampire",
   "metadata": {},
   "outputs": [],
   "source": [
    "a = 5"
   ]
  },
  {
   "cell_type": "code",
   "execution_count": 3,
   "id": "upper-victoria",
   "metadata": {},
   "outputs": [
    {
     "ename": "ModuleNotFoundError",
     "evalue": "No module named 'pandas'",
     "output_type": "error",
     "traceback": [
      "\u001b[1;31m---------------------------------------------------------------------------\u001b[0m",
      "\u001b[1;31mModuleNotFoundError\u001b[0m                       Traceback (most recent call last)",
      "\u001b[1;32m<ipython-input-3-7dd3504c366f>\u001b[0m in \u001b[0;36m<module>\u001b[1;34m\u001b[0m\n\u001b[1;32m----> 1\u001b[1;33m \u001b[1;32mimport\u001b[0m \u001b[0mpandas\u001b[0m \u001b[1;32mas\u001b[0m \u001b[0mpd\u001b[0m\u001b[1;33m\u001b[0m\u001b[1;33m\u001b[0m\u001b[0m\n\u001b[0m",
      "\u001b[1;31mModuleNotFoundError\u001b[0m: No module named 'pandas'"
     ]
    }
   ],
   "source": [
    "import pandas as pd"
   ]
  },
  {
   "cell_type": "code",
   "execution_count": 4,
   "id": "scheduled-freeze",
   "metadata": {},
   "outputs": [
    {
     "name": "stdout",
     "output_type": "stream",
     "text": [
      "Collecting pandas\n",
      "  Downloading pandas-1.2.1-cp38-cp38-win_amd64.whl (9.3 MB)\n",
      "Requirement already satisfied: python-dateutil>=2.7.3 in c:\\users\\fiqih\\anaconda3\\lib\\site-packages (from pandas) (2.8.1)\n",
      "Requirement already satisfied: pytz>=2017.3 in c:\\users\\fiqih\\anaconda3\\lib\\site-packages (from pandas) (2020.5)\n",
      "Collecting numpy>=1.16.5\n",
      "  Using cached numpy-1.19.5-cp38-cp38-win_amd64.whl (13.3 MB)\n",
      "Requirement already satisfied: six>=1.5 in c:\\users\\fiqih\\anaconda3\\lib\\site-packages (from python-dateutil>=2.7.3->pandas) (1.15.0)\n",
      "Installing collected packages: numpy, pandas\n",
      "Successfully installed numpy-1.19.5 pandas-1.2.1\n",
      "Note: you may need to restart the kernel to use updated packages.\n"
     ]
    }
   ],
   "source": [
    "pip install pandas"
   ]
  },
  {
   "cell_type": "code",
   "execution_count": 5,
   "id": "chemical-whole",
   "metadata": {},
   "outputs": [
    {
     "name": "stdout",
     "output_type": "stream",
     "text": [
      "Requirement already satisfied: numpy in c:\\users\\fiqih\\anaconda3\\lib\\site-packages (1.19.5)Note: you may need to restart the kernel to use updated packages.\n",
      "\n"
     ]
    }
   ],
   "source": [
    "pip install numpy"
   ]
  },
  {
   "cell_type": "code",
   "execution_count": null,
   "id": "elect-portfolio",
   "metadata": {},
   "outputs": [],
   "source": [
    "pip install math"
   ]
  }
 ],
 "metadata": {
  "kernelspec": {
   "display_name": "Python 3",
   "language": "python",
   "name": "python3"
  },
  "language_info": {
   "codemirror_mode": {
    "name": "ipython",
    "version": 3
   },
   "file_extension": ".py",
   "mimetype": "text/x-python",
   "name": "python",
   "nbconvert_exporter": "python",
   "pygments_lexer": "ipython3",
   "version": "3.8.5"
  }
 },
 "nbformat": 4,
 "nbformat_minor": 5
}
