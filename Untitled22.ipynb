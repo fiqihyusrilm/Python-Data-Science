{
 "cells": [
  {
   "cell_type": "code",
   "execution_count": 1,
   "id": "canadian-crossing",
   "metadata": {},
   "outputs": [
    {
     "name": "stdout",
     "output_type": "stream",
     "text": [
      "Requirement already satisfied: jupyterlab-kite>=2.0.2 in c:\\users\\fiqih\\anaconda3\\lib\\site-packages (2.0.2)Note: you may need to restart the kernel to use updated packages.\n",
      "Requirement already satisfied: jupyterlab<4.0.0a0,>=3.0.0 in c:\\users\\fiqih\\anaconda3\\lib\\site-packages (from jupyterlab-kite>=2.0.2) (3.0.6)\n",
      "Requirement already satisfied: jupyter-kite>=2.0.0 in c:\\users\\fiqih\\anaconda3\\lib\\site-packages (from jupyterlab-kite>=2.0.2) (2.0.2)\n",
      "Requirement already satisfied: entrypoints in c:\\users\\fiqih\\anaconda3\\lib\\site-packages (from jupyter-kite>=2.0.0->jupyterlab-kite>=2.0.2) (0.3)\n",
      "Requirement already satisfied: tornado>=5.1.0 in c:\\users\\fiqih\\anaconda3\\lib\\site-packages (from jupyter-kite>=2.0.0->jupyterlab-kite>=2.0.2) (6.1)\n",
      "Requirement already satisfied: jupyter-server>=1.1.2 in c:\\users\\fiqih\\anaconda3\\lib\\site-packages (from jupyter-kite>=2.0.0->jupyterlab-kite>=2.0.2) (1.2.3)\n",
      "Requirement already satisfied: Send2Trash in c:\\users\\fiqih\\anaconda3\\lib\\site-packages (from jupyter-server>=1.1.2->jupyter-kite>=2.0.0->jupyterlab-kite>=2.0.2) (1.5.0)\n",
      "Requirement already satisfied: pywin32>=1.0 in c:\\users\\fiqih\\anaconda3\\lib\\site-packages (from jupyter-server>=1.1.2->jupyter-kite>=2.0.0->jupyterlab-kite>=2.0.2) (227)\n",
      "Requirement already satisfied: anyio>=2.0.2 in c:\\users\\fiqih\\anaconda3\\lib\\site-packages (from jupyter-server>=1.1.2->jupyter-kite>=2.0.0->jupyterlab-kite>=2.0.2) (2.0.2)\n",
      "Requirement already satisfied: nbformat in c:\\users\\fiqih\\anaconda3\\lib\\site-packages (from jupyter-server>=1.1.2->jupyter-kite>=2.0.0->jupyterlab-kite>=2.0.2) (5.1.2)\n",
      "Requirement already satisfied: terminado>=0.8.3 in c:\\users\\fiqih\\anaconda3\\lib\\site-packages (from jupyter-server>=1.1.2->jupyter-kite>=2.0.0->jupyterlab-kite>=2.0.2) (0.9.2)\n",
      "Requirement already satisfied: prometheus-client in c:\\users\\fiqih\\anaconda3\\lib\\site-packages (from jupyter-server>=1.1.2->jupyter-kite>=2.0.0->jupyterlab-kite>=2.0.2) (0.9.0)\n",
      "Requirement already satisfied: traitlets>=4.2.1 in c:\\users\\fiqih\\anaconda3\\lib\\site-packages (from jupyter-server>=1.1.2->jupyter-kite>=2.0.0->jupyterlab-kite>=2.0.2) (5.0.5)\n",
      "Requirement already satisfied: nbconvert in c:\\users\\fiqih\\anaconda3\\lib\\site-packages (from jupyter-server>=1.1.2->jupyter-kite>=2.0.0->jupyterlab-kite>=2.0.2) (6.0.7)\n",
      "Requirement already satisfied: ipython-genutils in c:\\users\\fiqih\\anaconda3\\lib\\site-packages (from jupyter-server>=1.1.2->jupyter-kite>=2.0.0->jupyterlab-kite>=2.0.2) (0.2.0)\n",
      "Requirement already satisfied: jupyter-core>=4.4.0 in c:\\users\\fiqih\\anaconda3\\lib\\site-packages (from jupyter-server>=1.1.2->jupyter-kite>=2.0.0->jupyterlab-kite>=2.0.2) (4.7.0)\n",
      "Requirement already satisfied: jinja2 in c:\\users\\fiqih\\anaconda3\\lib\\site-packages (from jupyter-server>=1.1.2->jupyter-kite>=2.0.0->jupyterlab-kite>=2.0.2) (2.11.2)\n",
      "Requirement already satisfied: pyzmq>=17 in c:\\users\\fiqih\\anaconda3\\lib\\site-packages (from jupyter-server>=1.1.2->jupyter-kite>=2.0.0->jupyterlab-kite>=2.0.2) (20.0.0)\n",
      "Requirement already satisfied: jupyter-client>=6.1.1 in c:\\users\\fiqih\\anaconda3\\lib\\site-packages (from jupyter-server>=1.1.2->jupyter-kite>=2.0.0->jupyterlab-kite>=2.0.2) (6.1.7)\n",
      "Requirement already satisfied: idna>=2.8 in c:\\users\\fiqih\\anaconda3\\lib\\site-packages (from anyio>=2.0.2->jupyter-server>=1.1.2->jupyter-kite>=2.0.0->jupyterlab-kite>=2.0.2) (2.10)\n",
      "Requirement already satisfied: sniffio>=1.1 in c:\\users\\fiqih\\anaconda3\\lib\\site-packages (from anyio>=2.0.2->jupyter-server>=1.1.2->jupyter-kite>=2.0.0->jupyterlab-kite>=2.0.2) (1.2.0)\n",
      "Requirement already satisfied: python-dateutil>=2.1 in c:\\users\\fiqih\\anaconda3\\lib\\site-packages (from jupyter-client>=6.1.1->jupyter-server>=1.1.2->jupyter-kite>=2.0.0->jupyterlab-kite>=2.0.2) (2.8.1)\n",
      "Requirement already satisfied: jupyterlab-server~=2.0 in c:\\users\\fiqih\\anaconda3\\lib\\site-packages (from jupyterlab<4.0.0a0,>=3.0.0->jupyterlab-kite>=2.0.2) (2.1.3)\n",
      "Requirement already satisfied: nbclassic~=0.2 in c:\\users\\fiqih\\anaconda3\\lib\\site-packages (from jupyterlab<4.0.0a0,>=3.0.0->jupyterlab-kite>=2.0.2) (0.2.6)\n",
      "Requirement already satisfied: ipython in c:\\users\\fiqih\\anaconda3\\lib\\site-packages (from jupyterlab<4.0.0a0,>=3.0.0->jupyterlab-kite>=2.0.2) (7.19.0)\n",
      "Requirement already satisfied: packaging in c:\\users\\fiqih\\anaconda3\\lib\\site-packages (from jupyterlab<4.0.0a0,>=3.0.0->jupyterlab-kite>=2.0.2) (20.9)\n",
      "Requirement already satisfied: MarkupSafe>=0.23 in c:\\users\\fiqih\\anaconda3\\lib\\site-packages (from jinja2->jupyter-server>=1.1.2->jupyter-kite>=2.0.0->jupyterlab-kite>=2.0.2) (1.1.1)\n",
      "Requirement already satisfied: requests in c:\\users\\fiqih\\anaconda3\\lib\\site-packages (from jupyterlab-server~=2.0->jupyterlab<4.0.0a0,>=3.0.0->jupyterlab-kite>=2.0.2) (2.25.1)\n",
      "Requirement already satisfied: json5 in c:\\users\\fiqih\\anaconda3\\lib\\site-packages (from jupyterlab-server~=2.0->jupyterlab<4.0.0a0,>=3.0.0->jupyterlab-kite>=2.0.2) (0.9.5)\n",
      "Requirement already satisfied: babel in c:\\users\\fiqih\\anaconda3\\lib\\site-packages (from jupyterlab-server~=2.0->jupyterlab<4.0.0a0,>=3.0.0->jupyterlab-kite>=2.0.2) (2.9.0)\n",
      "Requirement already satisfied: jsonschema>=3.0.1 in c:\\users\\fiqih\\anaconda3\\lib\\site-packages (from jupyterlab-server~=2.0->jupyterlab<4.0.0a0,>=3.0.0->jupyterlab-kite>=2.0.2) (3.2.0)\n",
      "Requirement already satisfied: six>=1.11.0 in c:\\users\\fiqih\\anaconda3\\lib\\site-packages (from jsonschema>=3.0.1->jupyterlab-server~=2.0->jupyterlab<4.0.0a0,>=3.0.0->jupyterlab-kite>=2.0.2) (1.15.0)\n",
      "Requirement already satisfied: attrs>=17.4.0 in c:\\users\\fiqih\\anaconda3\\lib\\site-packages (from jsonschema>=3.0.1->jupyterlab-server~=2.0->jupyterlab<4.0.0a0,>=3.0.0->jupyterlab-kite>=2.0.2) (20.3.0)\n",
      "Requirement already satisfied: setuptools in c:\\users\\fiqih\\anaconda3\\lib\\site-packages (from jsonschema>=3.0.1->jupyterlab-server~=2.0->jupyterlab<4.0.0a0,>=3.0.0->jupyterlab-kite>=2.0.2) (52.0.0.post20210125)\n",
      "Requirement already satisfied: pyrsistent>=0.14.0 in c:\\users\\fiqih\\anaconda3\\lib\\site-packages (from jsonschema>=3.0.1->jupyterlab-server~=2.0->jupyterlab<4.0.0a0,>=3.0.0->jupyterlab-kite>=2.0.2) (0.17.3)\n",
      "\n",
      "Requirement already satisfied: notebook<7 in c:\\users\\fiqih\\anaconda3\\lib\\site-packages (from nbclassic~=0.2->jupyterlab<4.0.0a0,>=3.0.0->jupyterlab-kite>=2.0.2) (6.2.0)\n",
      "Requirement already satisfied: argon2-cffi in c:\\users\\fiqih\\anaconda3\\lib\\site-packages (from notebook<7->nbclassic~=0.2->jupyterlab<4.0.0a0,>=3.0.0->jupyterlab-kite>=2.0.2) (20.1.0)\n",
      "Requirement already satisfied: ipykernel in c:\\users\\fiqih\\anaconda3\\lib\\site-packages (from notebook<7->nbclassic~=0.2->jupyterlab<4.0.0a0,>=3.0.0->jupyterlab-kite>=2.0.2) (5.3.4)\n",
      "Requirement already satisfied: pywinpty>=0.5 in c:\\users\\fiqih\\anaconda3\\lib\\site-packages (from terminado>=0.8.3->jupyter-server>=1.1.2->jupyter-kite>=2.0.0->jupyterlab-kite>=2.0.2) (0.5.7)\n",
      "Requirement already satisfied: cffi>=1.0.0 in c:\\users\\fiqih\\anaconda3\\lib\\site-packages (from argon2-cffi->notebook<7->nbclassic~=0.2->jupyterlab<4.0.0a0,>=3.0.0->jupyterlab-kite>=2.0.2) (1.14.4)\n",
      "Requirement already satisfied: pycparser in c:\\users\\fiqih\\anaconda3\\lib\\site-packages (from cffi>=1.0.0->argon2-cffi->notebook<7->nbclassic~=0.2->jupyterlab<4.0.0a0,>=3.0.0->jupyterlab-kite>=2.0.2) (2.20)\n",
      "Requirement already satisfied: pytz>=2015.7 in c:\\users\\fiqih\\anaconda3\\lib\\site-packages (from babel->jupyterlab-server~=2.0->jupyterlab<4.0.0a0,>=3.0.0->jupyterlab-kite>=2.0.2) (2020.5)\n",
      "Requirement already satisfied: jedi>=0.10 in c:\\users\\fiqih\\anaconda3\\lib\\site-packages (from ipython->jupyterlab<4.0.0a0,>=3.0.0->jupyterlab-kite>=2.0.2) (0.17.0)\n",
      "Requirement already satisfied: pygments in c:\\users\\fiqih\\anaconda3\\lib\\site-packages (from ipython->jupyterlab<4.0.0a0,>=3.0.0->jupyterlab-kite>=2.0.2) (2.7.4)\n",
      "Requirement already satisfied: prompt-toolkit!=3.0.0,!=3.0.1,<3.1.0,>=2.0.0 in c:\\users\\fiqih\\anaconda3\\lib\\site-packages (from ipython->jupyterlab<4.0.0a0,>=3.0.0->jupyterlab-kite>=2.0.2) (3.0.8)\n",
      "Requirement already satisfied: backcall in c:\\users\\fiqih\\anaconda3\\lib\\site-packages (from ipython->jupyterlab<4.0.0a0,>=3.0.0->jupyterlab-kite>=2.0.2) (0.2.0)\n",
      "Requirement already satisfied: pickleshare in c:\\users\\fiqih\\anaconda3\\lib\\site-packages (from ipython->jupyterlab<4.0.0a0,>=3.0.0->jupyterlab-kite>=2.0.2) (0.7.5)\n",
      "Requirement already satisfied: colorama in c:\\users\\fiqih\\anaconda3\\lib\\site-packages (from ipython->jupyterlab<4.0.0a0,>=3.0.0->jupyterlab-kite>=2.0.2) (0.4.4)\n",
      "Requirement already satisfied: decorator in c:\\users\\fiqih\\anaconda3\\lib\\site-packages (from ipython->jupyterlab<4.0.0a0,>=3.0.0->jupyterlab-kite>=2.0.2) (4.4.2)\n",
      "Requirement already satisfied: parso>=0.7.0 in c:\\users\\fiqih\\anaconda3\\lib\\site-packages (from jedi>=0.10->ipython->jupyterlab<4.0.0a0,>=3.0.0->jupyterlab-kite>=2.0.2) (0.8.1)\n",
      "Requirement already satisfied: wcwidth in c:\\users\\fiqih\\anaconda3\\lib\\site-packages (from prompt-toolkit!=3.0.0,!=3.0.1,<3.1.0,>=2.0.0->ipython->jupyterlab<4.0.0a0,>=3.0.0->jupyterlab-kite>=2.0.2) (0.2.5)\n",
      "Requirement already satisfied: pandocfilters>=1.4.1 in c:\\users\\fiqih\\anaconda3\\lib\\site-packages (from nbconvert->jupyter-server>=1.1.2->jupyter-kite>=2.0.0->jupyterlab-kite>=2.0.2) (1.4.3)\n",
      "Requirement already satisfied: jupyterlab-pygments in c:\\users\\fiqih\\anaconda3\\lib\\site-packages (from nbconvert->jupyter-server>=1.1.2->jupyter-kite>=2.0.0->jupyterlab-kite>=2.0.2) (0.1.2)\n",
      "Requirement already satisfied: defusedxml in c:\\users\\fiqih\\anaconda3\\lib\\site-packages (from nbconvert->jupyter-server>=1.1.2->jupyter-kite>=2.0.0->jupyterlab-kite>=2.0.2) (0.6.0)\n",
      "Requirement already satisfied: bleach in c:\\users\\fiqih\\anaconda3\\lib\\site-packages (from nbconvert->jupyter-server>=1.1.2->jupyter-kite>=2.0.0->jupyterlab-kite>=2.0.2) (3.2.3)\n",
      "Requirement already satisfied: mistune<2,>=0.8.1 in c:\\users\\fiqih\\anaconda3\\lib\\site-packages (from nbconvert->jupyter-server>=1.1.2->jupyter-kite>=2.0.0->jupyterlab-kite>=2.0.2) (0.8.4)\n",
      "Requirement already satisfied: testpath in c:\\users\\fiqih\\anaconda3\\lib\\site-packages (from nbconvert->jupyter-server>=1.1.2->jupyter-kite>=2.0.0->jupyterlab-kite>=2.0.2) (0.4.4)\n",
      "Requirement already satisfied: nbclient<0.6.0,>=0.5.0 in c:\\users\\fiqih\\anaconda3\\lib\\site-packages (from nbconvert->jupyter-server>=1.1.2->jupyter-kite>=2.0.0->jupyterlab-kite>=2.0.2) (0.5.1)\n",
      "Requirement already satisfied: nest-asyncio in c:\\users\\fiqih\\anaconda3\\lib\\site-packages (from nbclient<0.6.0,>=0.5.0->nbconvert->jupyter-server>=1.1.2->jupyter-kite>=2.0.0->jupyterlab-kite>=2.0.2) (1.4.3)\n",
      "Requirement already satisfied: async-generator in c:\\users\\fiqih\\anaconda3\\lib\\site-packages (from nbclient<0.6.0,>=0.5.0->nbconvert->jupyter-server>=1.1.2->jupyter-kite>=2.0.0->jupyterlab-kite>=2.0.2) (1.10)\n",
      "Requirement already satisfied: webencodings in c:\\users\\fiqih\\anaconda3\\lib\\site-packages (from bleach->nbconvert->jupyter-server>=1.1.2->jupyter-kite>=2.0.0->jupyterlab-kite>=2.0.2) (0.5.1)\n",
      "Requirement already satisfied: pyparsing>=2.0.2 in c:\\users\\fiqih\\anaconda3\\lib\\site-packages (from packaging->jupyterlab<4.0.0a0,>=3.0.0->jupyterlab-kite>=2.0.2) (2.4.7)\n",
      "Requirement already satisfied: chardet<5,>=3.0.2 in c:\\users\\fiqih\\anaconda3\\lib\\site-packages (from requests->jupyterlab-server~=2.0->jupyterlab<4.0.0a0,>=3.0.0->jupyterlab-kite>=2.0.2) (4.0.0)\n",
      "Requirement already satisfied: urllib3<1.27,>=1.21.1 in c:\\users\\fiqih\\anaconda3\\lib\\site-packages (from requests->jupyterlab-server~=2.0->jupyterlab<4.0.0a0,>=3.0.0->jupyterlab-kite>=2.0.2) (1.26.3)\n",
      "Requirement already satisfied: certifi>=2017.4.17 in c:\\users\\fiqih\\anaconda3\\lib\\site-packages (from requests->jupyterlab-server~=2.0->jupyterlab<4.0.0a0,>=3.0.0->jupyterlab-kite>=2.0.2) (2020.12.5)\n"
     ]
    }
   ],
   "source": [
    "pip install \"jupyterlab-kite>=2.0.2\""
   ]
  },
  {
   "cell_type": "code",
   "execution_count": 2,
   "id": "negative-jamaica",
   "metadata": {},
   "outputs": [],
   "source": [
    "import pandas as pd"
   ]
  },
  {
   "cell_type": "code",
   "execution_count": 3,
   "id": "circular-taiwan",
   "metadata": {},
   "outputs": [
    {
     "ename": "SyntaxError",
     "evalue": "invalid syntax (<ipython-input-3-64dd4960c10c>, line 1)",
     "output_type": "error",
     "traceback": [
      "\u001b[1;36m  File \u001b[1;32m\"<ipython-input-3-64dd4960c10c>\"\u001b[1;36m, line \u001b[1;32m1\u001b[0m\n\u001b[1;33m    as = 214141\u001b[0m\n\u001b[1;37m    ^\u001b[0m\n\u001b[1;31mSyntaxError\u001b[0m\u001b[1;31m:\u001b[0m invalid syntax\n"
     ]
    }
   ],
   "source": [
    "as = 214141"
   ]
  },
  {
   "cell_type": "code",
   "execution_count": null,
   "id": "circular-brook",
   "metadata": {},
   "outputs": [],
   "source": [
    "as.to_"
   ]
  }
 ],
 "metadata": {
  "kernelspec": {
   "display_name": "Python 3",
   "language": "python",
   "name": "python3"
  },
  "language_info": {
   "codemirror_mode": {
    "name": "ipython",
    "version": 3
   },
   "file_extension": ".py",
   "mimetype": "text/x-python",
   "name": "python",
   "nbconvert_exporter": "python",
   "pygments_lexer": "ipython3",
   "version": "3.8.5"
  }
 },
 "nbformat": 4,
 "nbformat_minor": 5
}
