{
 "cells": [
  {
   "cell_type": "code",
   "execution_count": 1,
   "id": "integrated-kernel",
   "metadata": {},
   "outputs": [
    {
     "name": "stdout",
     "output_type": "stream",
     "text": [
      "Masukkan bilangan: 4\n",
      "4 bukan bilangan prima\n",
      "2 kali 2 = 4\n"
     ]
    }
   ],
   "source": [
    "# Program python untuk menentukan bilangan prima atau tidak\n",
    "\n",
    "# Meminta input bilangan dari user\n",
    "num = int(input(\"Masukkan bilangan: \"))\n",
    "\n",
    "# bilangan prima harus lebih besar dari 1\n",
    "if num > 1:\n",
    "    for i in range(2,num):\n",
    "        if (num % i) == 0:\n",
    "            print(num, \"bukan bilangan prima\")\n",
    "            print(i, \"kali\", num//i, \"=\", num)\n",
    "            break\n",
    "    else:\n",
    "        print(num,\"adalah bilangan prima\")\n",
    "\n",
    "# bila bilangan kurang atau sama dengan satu\n",
    "else:\n",
    "    print(num, \"bukan bilangan prima\")"
   ]
  },
  {
   "cell_type": "code",
   "execution_count": 17,
   "id": "original-trance",
   "metadata": {},
   "outputs": [
    {
     "name": "stdout",
     "output_type": "stream",
     "text": [
      "2\n",
      "100 bukan bilangan prima\n",
      "2 kali 50 = 100\n"
     ]
    }
   ],
   "source": [
    "a = 100\n",
    "if a > 1:\n",
    "    for i in range(2,a):\n",
    "        print(i)\n",
    "        if(a%i) == 0:\n",
    "            print(a, 'bukan bilangan prima')\n",
    "            print(i,'kali', a//i, '=', a)\n",
    "            break"
   ]
  },
  {
   "cell_type": "code",
   "execution_count": 12,
   "id": "international-sunset",
   "metadata": {},
   "outputs": [
    {
     "name": "stdout",
     "output_type": "stream",
     "text": [
      "2\n",
      "4 bukan bilangan prima\n",
      "2 kali 2 = 4\n",
      "3\n"
     ]
    }
   ],
   "source": [
    "a = 4\n",
    "if a > 1:\n",
    "    for i in range(2,a):\n",
    "        print(i)\n",
    "        if(a%i) == 0:\n",
    "            print(a, 'bukan bilangan prima')\n",
    "            print(i,'kali', a//i, '=', a)\n",
    "            "
   ]
  },
  {
   "cell_type": "code",
   "execution_count": 7,
   "id": "removable-recommendation",
   "metadata": {},
   "outputs": [
    {
     "data": {
      "text/plain": [
       "1.3333333333333333"
      ]
     },
     "execution_count": 7,
     "metadata": {},
     "output_type": "execute_result"
    }
   ],
   "source": [
    "4/3"
   ]
  },
  {
   "cell_type": "code",
   "execution_count": 25,
   "id": "silent-adolescent",
   "metadata": {},
   "outputs": [
    {
     "name": "stdout",
     "output_type": "stream",
     "text": [
      "2 1\n",
      "3 1\n",
      "4 1\n",
      "4 2\n",
      "5 1\n",
      "6 1\n",
      "6 2\n",
      "6 3\n",
      "7 1\n",
      "8 1\n",
      "8 2\n",
      "8 4\n",
      "9 1\n",
      "9 3\n"
     ]
    }
   ],
   "source": [
    "for i in range(1,10):\n",
    "    for j in range(1,i):\n",
    "        if (i%j) == 0 and !(i%):\n",
    "            print(i,j)"
   ]
  },
  {
   "cell_type": "code",
   "execution_count": 27,
   "id": "composed-location",
   "metadata": {},
   "outputs": [
    {
     "name": "stdout",
     "output_type": "stream",
     "text": [
      "2\n",
      "3\n",
      "3\n",
      "4\n",
      "4\n",
      "4\n",
      "5\n",
      "5\n",
      "5\n",
      "5\n",
      "6\n",
      "6\n",
      "6\n",
      "6\n",
      "6\n",
      "7\n",
      "7\n",
      "7\n",
      "7\n",
      "7\n",
      "7\n",
      "8\n",
      "8\n",
      "8\n",
      "8\n",
      "8\n",
      "8\n",
      "8\n",
      "9\n",
      "9\n",
      "9\n",
      "9\n",
      "9\n",
      "9\n",
      "9\n",
      "9\n"
     ]
    }
   ],
   "source": [
    "for i in range(1,10):\n",
    "    if(i%2)==0 and !(i)"
   ]
  },
  {
   "cell_type": "code",
   "execution_count": 45,
   "id": "passive-journey",
   "metadata": {},
   "outputs": [
    {
     "name": "stdout",
     "output_type": "stream",
     "text": [
      "Bilangan prima antara 200 and 300 :\n",
      "211\n",
      "[211]\n",
      "2\n",
      "223\n",
      "[223]\n",
      "2\n",
      "227\n",
      "[227]\n",
      "2\n",
      "229\n",
      "[229]\n",
      "2\n",
      "233\n",
      "[233]\n",
      "2\n",
      "239\n",
      "[239]\n",
      "2\n",
      "241\n",
      "[241]\n",
      "2\n",
      "251\n",
      "[251]\n",
      "2\n",
      "257\n",
      "[257]\n",
      "2\n",
      "263\n",
      "[263]\n",
      "2\n",
      "269\n",
      "[269]\n",
      "2\n",
      "271\n",
      "[271]\n",
      "2\n",
      "277\n",
      "[277]\n",
      "2\n",
      "281\n",
      "[281]\n",
      "2\n",
      "283\n",
      "[283]\n",
      "2\n",
      "293\n",
      "[293]\n",
      "2\n"
     ]
    }
   ],
   "source": [
    "# Program untuk menampilkan semua bilangan prima pada interval tertentu \n",
    "# Ubah nilai lower dan upper untuk hasil yang lain \n",
    "lower = 200 \n",
    "upper = 300 \n",
    "print(\"Bilangan prima antara\",lower,\"and\",upper,\":\") \n",
    "for num in range(lower,upper + 1): \n",
    "    if num > 1: \n",
    "        for i in range(2,num): \n",
    "            if (num % i) == 0: \n",
    "                break \n",
    "        else: \n",
    "            print(num)\n",
    "            a = [num]\n",
    "            print(a)\n",
    "            b = len(a) + 1\n",
    "\n",
    "            \n"
   ]
  },
  {
   "cell_type": "code",
   "execution_count": 37,
   "id": "sophisticated-polymer",
   "metadata": {},
   "outputs": [
    {
     "data": {
      "text/plain": [
       "[293]"
      ]
     },
     "execution_count": 37,
     "metadata": {},
     "output_type": "execute_result"
    }
   ],
   "source": [
    "a"
   ]
  },
  {
   "cell_type": "code",
   "execution_count": null,
   "id": "thirty-debut",
   "metadata": {},
   "outputs": [],
   "source": []
  }
 ],
 "metadata": {
  "kernelspec": {
   "display_name": "Python 3",
   "language": "python",
   "name": "python3"
  },
  "language_info": {
   "codemirror_mode": {
    "name": "ipython",
    "version": 3
   },
   "file_extension": ".py",
   "mimetype": "text/x-python",
   "name": "python",
   "nbconvert_exporter": "python",
   "pygments_lexer": "ipython3",
   "version": "3.8.5"
  }
 },
 "nbformat": 4,
 "nbformat_minor": 5
}
